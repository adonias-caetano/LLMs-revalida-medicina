{
 "cells": [
  {
   "cell_type": "markdown",
   "metadata": {
    "id": "xi8v3TETcWsv"
   },
   "source": [
    "#  **ChatGPT-4o com RAG de arquivos e Embedding**\n",
    "\n",
    "**Authors:** Renato Freitas Bessa, Adonias Caetano de Oliveira, Ariel Soares Teles\n",
    "\n",
    "**Institution:** UFDPar - PPGBiotec\n",
    "\n",
    "**Objective:** responde os exame de 2024.01 do revalida com GPT-4o por meio de RAG baseado em arquivos e usando embedding."
   ]
  },
  {
   "cell_type": "markdown",
   "metadata": {
    "id": "BzB5tOupGCTF"
   },
   "source": [
    "## **Installation**"
   ]
  },
  {
   "cell_type": "code",
   "execution_count": 1,
   "metadata": {
    "colab": {
     "base_uri": "https://localhost:8080/"
    },
    "executionInfo": {
     "elapsed": 19064,
     "status": "ok",
     "timestamp": 1748201854637,
     "user": {
      "displayName": "Adonias Caetano de Oliveira",
      "userId": "13695547288945529292"
     },
     "user_tz": 180
    },
    "id": "EvJaijz7xlHp",
    "outputId": "7996c7f1-e2bb-4808-9136-fd9e381a3d80"
   },
   "outputs": [
    {
     "name": "stdout",
     "output_type": "stream",
     "text": [
      "Requirement already satisfied: pandas in /usr/local/lib/python3.11/dist-packages (2.2.2)\n",
      "Requirement already satisfied: openai in /usr/local/lib/python3.11/dist-packages (1.78.1)\n",
      "Collecting faiss-cpu\n",
      "  Downloading faiss_cpu-1.11.0-cp311-cp311-manylinux_2_28_x86_64.whl.metadata (4.8 kB)\n",
      "Requirement already satisfied: numpy>=1.23.2 in /usr/local/lib/python3.11/dist-packages (from pandas) (2.0.2)\n",
      "Requirement already satisfied: python-dateutil>=2.8.2 in /usr/local/lib/python3.11/dist-packages (from pandas) (2.9.0.post0)\n",
      "Requirement already satisfied: pytz>=2020.1 in /usr/local/lib/python3.11/dist-packages (from pandas) (2025.2)\n",
      "Requirement already satisfied: tzdata>=2022.7 in /usr/local/lib/python3.11/dist-packages (from pandas) (2025.2)\n",
      "Requirement already satisfied: anyio<5,>=3.5.0 in /usr/local/lib/python3.11/dist-packages (from openai) (4.9.0)\n",
      "Requirement already satisfied: distro<2,>=1.7.0 in /usr/local/lib/python3.11/dist-packages (from openai) (1.9.0)\n",
      "Requirement already satisfied: httpx<1,>=0.23.0 in /usr/local/lib/python3.11/dist-packages (from openai) (0.28.1)\n",
      "Requirement already satisfied: jiter<1,>=0.4.0 in /usr/local/lib/python3.11/dist-packages (from openai) (0.9.0)\n",
      "Requirement already satisfied: pydantic<3,>=1.9.0 in /usr/local/lib/python3.11/dist-packages (from openai) (2.11.4)\n",
      "Requirement already satisfied: sniffio in /usr/local/lib/python3.11/dist-packages (from openai) (1.3.1)\n",
      "Requirement already satisfied: tqdm>4 in /usr/local/lib/python3.11/dist-packages (from openai) (4.67.1)\n",
      "Requirement already satisfied: typing-extensions<5,>=4.11 in /usr/local/lib/python3.11/dist-packages (from openai) (4.13.2)\n",
      "Requirement already satisfied: packaging in /usr/local/lib/python3.11/dist-packages (from faiss-cpu) (24.2)\n",
      "Requirement already satisfied: idna>=2.8 in /usr/local/lib/python3.11/dist-packages (from anyio<5,>=3.5.0->openai) (3.10)\n",
      "Requirement already satisfied: certifi in /usr/local/lib/python3.11/dist-packages (from httpx<1,>=0.23.0->openai) (2025.4.26)\n",
      "Requirement already satisfied: httpcore==1.* in /usr/local/lib/python3.11/dist-packages (from httpx<1,>=0.23.0->openai) (1.0.9)\n",
      "Requirement already satisfied: h11>=0.16 in /usr/local/lib/python3.11/dist-packages (from httpcore==1.*->httpx<1,>=0.23.0->openai) (0.16.0)\n",
      "Requirement already satisfied: annotated-types>=0.6.0 in /usr/local/lib/python3.11/dist-packages (from pydantic<3,>=1.9.0->openai) (0.7.0)\n",
      "Requirement already satisfied: pydantic-core==2.33.2 in /usr/local/lib/python3.11/dist-packages (from pydantic<3,>=1.9.0->openai) (2.33.2)\n",
      "Requirement already satisfied: typing-inspection>=0.4.0 in /usr/local/lib/python3.11/dist-packages (from pydantic<3,>=1.9.0->openai) (0.4.0)\n",
      "Requirement already satisfied: six>=1.5 in /usr/local/lib/python3.11/dist-packages (from python-dateutil>=2.8.2->pandas) (1.17.0)\n",
      "Downloading faiss_cpu-1.11.0-cp311-cp311-manylinux_2_28_x86_64.whl (31.3 MB)\n",
      "\u001b[2K   \u001b[90m━━━━━━━━━━━━━━━━━━━━━━━━━━━━━━━━━━━━━━━━\u001b[0m \u001b[32m31.3/31.3 MB\u001b[0m \u001b[31m16.8 MB/s\u001b[0m eta \u001b[36m0:00:00\u001b[0m\n",
      "\u001b[?25hInstalling collected packages: faiss-cpu\n",
      "Successfully installed faiss-cpu-1.11.0\n"
     ]
    }
   ],
   "source": [
    "!pip install pandas openai faiss-cpu"
   ]
  },
  {
   "cell_type": "markdown",
   "metadata": {
    "id": "h2sqqNaTGYW-"
   },
   "source": [
    "## **Importing libraries**"
   ]
  },
  {
   "cell_type": "code",
   "execution_count": 2,
   "metadata": {
    "executionInfo": {
     "elapsed": 1944,
     "status": "ok",
     "timestamp": 1748201856594,
     "user": {
      "displayName": "Adonias Caetano de Oliveira",
      "userId": "13695547288945529292"
     },
     "user_tz": 180
    },
    "id": "zh7xX7xDGk3x"
   },
   "outputs": [],
   "source": [
    "import os\n",
    "import openai\n",
    "import faiss\n",
    "import pandas as pd\n",
    "import re\n",
    "import random\n",
    "import os\n",
    "import asyncio\n",
    "from openai import AsyncOpenAI\n",
    "import numpy as np"
   ]
  },
  {
   "cell_type": "markdown",
   "metadata": {
    "id": "PsMRD7iRRRDw"
   },
   "source": [
    "## **Loading data**"
   ]
  },
  {
   "cell_type": "code",
   "execution_count": 3,
   "metadata": {
    "executionInfo": {
     "elapsed": 18,
     "status": "ok",
     "timestamp": 1748201856615,
     "user": {
      "displayName": "Adonias Caetano de Oliveira",
      "userId": "13695547288945529292"
     },
     "user_tz": 180
    },
    "id": "hm4qf1CE17cI"
   },
   "outputs": [],
   "source": [
    "#sheet_names = [\"2017.01\", \"2017.02\", \"2020.01\", \"2020.02\", \"2021.01\", \"2022.01\", \"2022.02\", \"2023.01\", \"2023.02\", \"2024.01\"]\n",
    "sheet_names = [\"2024.01\"]"
   ]
  },
  {
   "cell_type": "code",
   "execution_count": null,
   "metadata": {
    "colab": {
     "base_uri": "https://localhost:8080/",
     "height": 712
    },
    "executionInfo": {
     "elapsed": 8970,
     "status": "ok",
     "timestamp": 1748201865586,
     "user": {
      "displayName": "Adonias Caetano de Oliveira",
      "userId": "13695547288945529292"
     },
     "user_tz": 180
    },
    "id": "FnjgAbVBRW9V",
    "outputId": "0faa17cf-d690-4875-baa5-772efd5bac94"
   },
   "outputs": [
    {
     "data": {
      "application/vnd.google.colaboratory.intrinsic+json": {
       "summary": "{\n  \"name\": \"provas\",\n  \"rows\": 100,\n  \"fields\": [\n    {\n      \"column\": \"Perguntas-2017.01\",\n      \"properties\": {\n        \"dtype\": \"string\",\n        \"num_unique_values\": 100,\n        \"samples\": [\n          \"84.\\tIMAGEM\",\n          \"54.\\tIMAGEM\",\n          \"71.\\tUma primigesta com 27 anos de idade, na 31a semana de gesta\\u00e7\\u00e3o, procura a emerg\\u00eancia obst\\u00e9trica, queixando-se de cefaleia occipital moderada e persistente h\\u00e1 12 horas. O exame f\\u00edsico revela: palidez cut\\u00e2neo- mucosa ++/4+; edema de membros inferiores +++/4+; press\\u00e3o arterial = 145 x 95 mmHg; altura uterina = 30 cm; batimentos card\\u00edacos fetais = 140 bpm, com acelera\\u00e7\\u00e3o transit\\u00f3ria presente. Din\\u00e2mica:   duas   contra\\u00e7\\u00f5es   de 30 segundos em 10 minutos. Toque vaginal: colo grosso, posterior, uma polpa digital, bolsa \\u00edntegra. Cardiotocografia com padr\\u00e3o tranquilizador. Os resultados dos exames laboratoriais demonstram: hemat\\u00f3crito = 39% (valor de refer\\u00eancia: 36 a 54%); hemoglobina = 13 g/dL (valor de refer\\u00eancia: 13,0 a 16,5 g/dL); plaquetas = 65.000/mL (valor de refer\\u00eancia: 130.000 a 450.000/mm3); desidrogenase l\\u00e1ctica = 1.500 UI/L (valor de refer\\u00eancia: 240 a 480 U/L); aspartato aminotransferase = 105 UI/L (valor de refer\\u00eancia: < 34 U/L); protein\\u00faria em fita +++/4+. Em face desse quadro cl\\u00ednico, a conduta adequada \\u00e9?a.\\tadministrar sulfato de magn\\u00e9sio e corticoterapia para a matura\\u00e7\\u00e3o pulmonar fetal e iniciar a indu\\u00e7\\u00e3o do parto vaginal, ap\\u00f3s 24 horas da segunda dose do corticoide.b.\\tprescrever corticoterapia para a matura\\u00e7\\u00e3o pulmonar fetal e iniciar a indu\\u00e7\\u00e3o do parto vaginal, ap\\u00f3s 24 horas da segunda dose do corticoide.c.\\tadministrar sulfato de magn\\u00e9sio, estabilizar clinicamente a paciente e proceder \\u00e0 resolu\\u00e7\\u00e3o da gesta\\u00e7\\u00e3o por parto ces\\u00e1reo.d.\\tiniciar toc\\u00f3lise com nifedipina via oral e prescrever corticoterapia para matura\\u00e7\\u00e3o pulmonar fetal\"\n        ],\n        \"semantic_type\": \"\",\n        \"description\": \"\"\n      }\n    },\n    {\n      \"column\": \"Gabarito-2017.01\",\n      \"properties\": {\n        \"dtype\": \"category\",\n        \"num_unique_values\": 6,\n        \"samples\": [\n          \"NULA\",\n          \"B\",\n          \"D\"\n        ],\n        \"semantic_type\": \"\",\n        \"description\": \"\"\n      }\n    },\n    {\n      \"column\": \"Perguntas-2017.02\",\n      \"properties\": {\n        \"dtype\": \"string\",\n        \"num_unique_values\": 100,\n        \"samples\": [\n          \"84.\\tIMAGEM\",\n          \"54.\\tUma mulher com 50 anos de idade \\u00e9 encaminhada ao ambulat\\u00f3rio de Nefrologia pela Equipe de Sa\\u00fade da Fam\\u00edlia apresentando quadro de s\\u00edndrome nefr\\u00f3tica. A paciente relata que, h\\u00e1 3 meses, iniciou-se edema nos tornozelos. O edema ascendeu progressivamente, estando, atualmente, na altura dos joelhos. Refere ganho de 10 kg nesse per\\u00edodo, al\\u00e9m de astenia. Nega hemat\\u00faria, febre, les\\u00f5es cut\\u00e2neas ou queixas respirat\\u00f3rias. Relata ser diab\\u00e9tica h\\u00e1 10 anos, fazendo uso irregular de metformina (850 mg, 1 a 2 vezes/dia) e glibenclamida (5 mg, 1 a 2 vezes/dia), sem acompanhamento m\\u00e9dico h\\u00e1, pelo menos, 5 anos. O exame f\\u00edsico revela palidez cut\\u00e2neo-mucosa, hipertens\\u00e3o arterial (press\\u00e3o arterial = 180 x 100 mmHg) e importante edema de membros inferiores (++++/4+). Os resultados dos exames solicitados pelo m\\u00e9dico da Equipe de Sa\\u00fade da Fam\\u00edlia demonstram: hemoglobina = 10 g/dL (valor de refer\\u00eancia: 12 a 14 g/dL), hemat\\u00f3crito = 31% (valor de refer\\u00eancia: 36 a 42%), VCM = 95 fL (valor de refer\\u00eancia: 80 a 100 fL), HCM = 31 pg (valor de refer\\u00eancia: 27 a 32 pg), RDW = 13,4% (valor de refer\\u00eancia: 11,5 a 15%); s\\u00e9rie branca e plaquetas normais; creatinina = 4,8 mg/dL (valor de refer\\u00eancia: 0,6 a 1,2 mg/dL), ureia = 190 mg/dL (valor de refer\\u00eancia: 15 a 38 mg/dL); glicemia de jejum = 230 mg/dL (valor de refer\\u00eancia: < 126 mg/dL), hemoglobina glicada = 9,0% (valor de refer\\u00eancia: < 6,5%); s\\u00f3dio = 143 mEq/L (valor de refer\\u00eancia:136 a 145 mEq/L), pot\\u00e1ssio = 5,5 mEq/L (valor de refer\\u00eancia: 3,5 a 5,1 mEq/L); colesterol total = 305 mg/dL (valor de refer\\u00eancia: < 200 mg/dL), HDL = 30 mg/dL (valor de refer\\u00eancia: > 45 mg/dL), triglicer\\u00eddeos = 322 mg/dL (valor de refer\\u00eancia: < 150 mg/dL); albumina s\\u00e9rica = 2 g/dL (valor de refer\\u00eancia: 3,5 a 4,5 g/dL); urina EAS = prote\\u00edna +++ (valor de refer\\u00eancia: ausente) e glicose ++ (valor de refer\\u00eancia: ausente); protein\\u00faria de 24 h = 5 g (valor de refer\\u00eancia: < 0,5 g). Ap\\u00f3s a avalia\\u00e7\\u00e3o inicial, \\u00e9 feita uma ultrassonografia, que mostra rins de tamanho normal e, ent\\u00e3o, \\u00e9 realizada bi\\u00f3psia renal, cujo resultado indica esclerose nodular mesangial. O presente quadro cl\\u00ednico indica que o progn\\u00f3stico \\u00e9 de?a.\\testabiliza\\u00e7\\u00e3o do comprometimento parenquimatoso e da fun\\u00e7\\u00e3o renal, desde que seja obtido o controle da glicemia.b.\\testabiliza\\u00e7\\u00e3o do comprometimento parenquimatoso e da fun\\u00e7\\u00e3o renal, desde que seja obtido o controle da press\\u00e3o arterial.c.\\tevolu\\u00e7\\u00e3o para insufici\\u00eancia renal cr\\u00f4nica terminal por altera\\u00e7\\u00e3o da fun\\u00e7\\u00e3o renal, presen\\u00e7a de hipertens\\u00e3o arterial e protein\\u00faria nefr\\u00f3tica.d.\\tevolu\\u00e7\\u00e3o para insufici\\u00eancia renal cr\\u00f4nica terminal por altera\\u00e7\\u00e3o da fun\\u00e7\\u00e3o renal, persist\\u00eancia da hiperglicemia e altera\\u00e7\\u00f5es do metabolismo de lip\\u00eddios.\",\n          \"71.\\tHomem com 27 anos de idade, sem hist\\u00f3rico de doen\\u00e7as pr\\u00e9vias, proveniente de zona rural, procura atendimento m\\u00e9dico por apresentar febre (temperatura axilar = 38 \\u00baC) e fraqueza h\\u00e1 10 dias, associadas a dor abdominal. Ao exame f\\u00edsico, observa-se paciente emagrecido, com palidez cut\\u00e2neo-mucosa, anict\\u00e9rico, com hepatoesplenomegalia e linfonodos cervicais palp\\u00e1veis. Observa-se, ainda, aus\\u00eancia de ascite ou circula\\u00e7\\u00e3o colateral e de edema de membros inferiores. O resultado do hemograma completo revela pancitopenia. O quadro cl\\u00ednico descrito \\u00e9 indicador de?a.\\tesquistossomose mans\\u00f4nica.b.\\tleishmaniose visceral.c.\\tdoen\\u00e7a de Chagas.d.\\thepatite viral Delta.\"\n        ],\n        \"semantic_type\": \"\",\n        \"description\": \"\"\n      }\n    },\n    {\n      \"column\": \"Gabarito-2017.02\",\n      \"properties\": {\n        \"dtype\": \"category\",\n        \"num_unique_values\": 5,\n        \"samples\": [\n          \"NULA\",\n          \"D\",\n          \"B\"\n        ],\n        \"semantic_type\": \"\",\n        \"description\": \"\"\n      }\n    },\n    {\n      \"column\": \"Perguntas-2020.01\",\n      \"properties\": {\n        \"dtype\": \"string\",\n        \"num_unique_values\": 100,\n        \"samples\": [\n          \"84.\\tUma mulher de 58 anos de idade, portadora h\\u00e1 longa data de diabete melito tipo 2 e de hipertens\\u00e3o arterial sist\\u00eamica (HAS), \\u00e9 internada em hospital terci\\u00e1rio com queixas de n\\u00e1useas, v\\u00f4mitos, solu\\u00e7os e dor precordial ventilat\\u00f3rio-dependente. O quadro se iniciou na v\\u00e9spera, quando procurou o pronto-socorro, onde realizou alguns exames complementares que revelaram glicose = 145 mg/dL (valor de refer\\u00eancia: 70 a 99 mg/dL), ureia = 264 mg/dL (valor de refer\\u00eancia: 20 a 40 mg/dL), creatinina = 12,8 mg/dL (valor de refer\\u00eancia: 0,7 a 1,2 mg/dL) e pot\\u00e1ssio = 5,8 mEq/L (valor de refer\\u00eancia: 3,5 a 5,2 mEq/L), al\\u00e9m da presen\\u00e7a, no eletrocardiograma convencional, de supradesnivelamento difuso (exceto em AVR e V1) do segmento ST, com ondas T positivas (exceto as duas deriva\\u00e7\\u00f5es anteriores) e infra do segmento PR. Foi administrado gluconato de c\\u00e1lcio endovenoso e resina de troca cati\\u00f4nica via oral (VO), sendo solicitada transfer\\u00eancia para interna\\u00e7\\u00e3o hospitalar. A paciente havia parado de fazer acompanhamento m\\u00e9dico regular, n\\u00e3o comparecendo \\u00e0s consultas nos 2 \\u00faltimos anos. Entretanto, continuava fazendo uso dos seguintes f\\u00e1rmacos: metformina 500 mg VO duas vezes ao dia; hidroclorotiazida 25 mg/dia VO; e anlodipino 10 mg VO duas vezes ao dia. Durante exame f\\u00edsico, a paciente se revela sonolenta, bradips\\u00edquica, com h\\u00e1lito desagrad\\u00e1vel e com solu\\u00e7os. Est\\u00e1 hipocorada (2+/4+), com mucosas \\u00famidas, acian\\u00f3tica, anict\\u00e9rica e afebril. O ritmo card\\u00edaco \\u00e9 regular, em 2 tempos, sendo auscultado um ru\\u00eddo sist\\u00f3lico rude em borda esternal esquerda baixa, al\\u00e9m de um sopro sist\\u00f3lico de baixa intensidade pancard\\u00edaco. H\\u00e1 turg\\u00eancia jugular patol\\u00f3gica, mas n\\u00e3o h\\u00e1 pulso paradoxal arterial ou venoso. Al\\u00e9m disso, apresenta PA = 180 x 100 mmHg; FC = 112 bpm; FR = 26 irpm. A ausculta pulmonar evidencia redu\\u00e7\\u00e3o do murm\\u00fario vesicular nas bases, estendendo-se ao ter\\u00e7o m\\u00e9dio do hemit\\u00f3rax direito. Membros inferiores revelam edema 2+/4+, n\\u00e3o havendo sinais de trombose venosa. Considerando o caso apresentado, assinale a alternativa que indica corretamente quais s\\u00e3o as condutas que o plano de cuidados dessa paciente deve incluir nesse momento?a.\\tIniciar terapia dial\\u00edtica imediata por via de uma f\\u00edstula arteriovenosa; melhorar o controle glic\\u00eamico atrav\\u00e9s da associa\\u00e7\\u00e3o de insuliniza\\u00e7\\u00e3o ao f\\u00e1rmaco hipoglicemiante j\\u00e1 em uso; e ajustar os f\\u00e1rmacos para controle da HAS, incluindo a associa\\u00e7\\u00e3o de furosemida ao esquema em curso.b.\\tProvidenciar acesso venoso profundo com cateter duplo l\\u00famen para in\\u00edcio de terapia dial\\u00edtica; suspender o esquema antidiab\\u00e9tico oral, mantendo controle glic\\u00eamico apenas atrav\\u00e9s de insuliniza\\u00e7\\u00e3o; e ajustar os f\\u00e1rmacos para controle da HAS, incluindo a suspens\\u00e3o do uso da hidroclorotiazida.c.\\tPuncionar o l\\u00edquido peric\\u00e1rdico para definir a causa da pericardite, tratando-a adequadamente; melhorar o controle glic\\u00eamico atrav\\u00e9s da associa\\u00e7\\u00e3o de insuliniza\\u00e7\\u00e3o ao f\\u00e1rmaco hipoglicemiante j\\u00e1 em uso; e ajustar os f\\u00e1rmacos para controle da HAS, incluindo a suspens\\u00e3o do uso da hidroclorotiazida.d.\\tEncaminhar a paciente para o cateterismo coron\\u00e1rio e poss\\u00edvel revasculariza\\u00e7\\u00e3o percut\\u00e2nea; suspender o esquema antidiab\\u00e9tico oral, mantendo controle glic\\u00eamico apenas atrav\\u00e9s de insuliniza\\u00e7\\u00e3o; e ajustar os f\\u00e1rmacos para controle da HAS, incluindo a associa\\u00e7\\u00e3o de furosemida ao esquema em curso.\",\n          \"54.\\tUm Agente Comunit\\u00e1rio de Sa\\u00fade solicita que o m\\u00e9dico da equipe avalie uma senhora de 78 anos de idade que vem apresentando confus\\u00e3o mental nos \\u00faltimos meses. Ao realizar a avalia\\u00e7\\u00e3o, o m\\u00e9dico nota que a paciente est\\u00e1 em regular estado geral, confusa e descorada. O exame f\\u00edsico mostrou reflexo de Babinski presente bilateralmente e incoordena\\u00e7\\u00e3o motora. Considerando o caso cl\\u00ednico apresentado, assinale a alternativa que contempla corretamente o exame laboratorial que deve ser solicitado, o resultado e o diagn\\u00f3stico?a.\\tHemograma; VCM = 120 fl; anemia perniciosa.b.\\tHemograma; VCM = 80 fl; anemia por defici\\u00eancia de \\u00e1cido f\\u00f3lico.c.\\tFAN; positivo com padr\\u00e3o nuclear pontilhado fino denso; encefalopatia renal.d.\\tFAN; positivo com padr\\u00e3o nuclear pontilhado grosso; encefalopatia l\\u00fapica.\",\n          \"71.\\tUma mulher com 28 anos de idade, primigesta, com 14 semanas de gesta\\u00e7\\u00e3o, comparece \\u00e0 segunda consulta de pr\\u00e9-natal com resultado de exame de sorologia para toxoplasmose com IgG e IgM positivos. A paciente est\\u00e1 assintom\\u00e1tica. Nesse caso, a conduta m\\u00e9dica adequada ao realizar o atendimento a essa gestante \\u00e9?a.\\tprescrever imediatamente espiramicina e solicitar teste de avidez de IgG.b.\\tprescrever imediatamente espiramicina e solicitar nova sorologia em 1 m\\u00eas.c.\\ttranquilizar a paciente, dizendo que se trata de infec\\u00e7\\u00e3o antiga e n\\u00e3o solicitar mais sorologias.d.\\ttranquilizar a paciente, dizendo que pode se tratar de falso positivo e solicitar nova sorologia em 2 semanas.\"\n        ],\n        \"semantic_type\": \"\",\n        \"description\": \"\"\n      }\n    },\n    {\n      \"column\": \"Gabarito-2020.01\",\n      \"properties\": {\n        \"dtype\": \"category\",\n        \"num_unique_values\": 4,\n        \"samples\": [\n          \"C\",\n          \"D\",\n          \"A\"\n        ],\n        \"semantic_type\": \"\",\n        \"description\": \"\"\n      }\n    },\n    {\n      \"column\": \"Perguntas-2020.02\",\n      \"properties\": {\n        \"dtype\": \"string\",\n        \"num_unique_values\": 100,\n        \"samples\": [\n          \"84.\\tUma mulher de 58 anos de idade, portadora h\\u00e1 longa data de diabete melito tipo 2 e de hipertens\\u00e3o arterial sist\\u00eamica (HAS), \\u00e9 internada em hospital terci\\u00e1rio com queixas de n\\u00e1useas, v\\u00f4mitos, solu\\u00e7os e dor precordial ventilat\\u00f3rio-dependente. O quadro se iniciou na v\\u00e9spera, quando procurou o pronto-socorro, onde realizou alguns exames complementares que revelaram glicose = 145 mg/dL (valor de refer\\u00eancia: 70 a 99 mg/dL), ureia = 264 mg/dL (valor de refer\\u00eancia: 20 a 40 mg/dL), creatinina = 12,8 mg/dL (valor de refer\\u00eancia: 0,7 a 1,2 mg/dL) e pot\\u00e1ssio = 5,8 mEq/L (valor de refer\\u00eancia: 3,5 a 5,2 mEq/L), al\\u00e9m da presen\\u00e7a, no eletrocardiograma convencional, de supradesnivelamento difuso (exceto em AVR e V1) do segmento ST, com ondas T positivas (exceto as duas deriva\\u00e7\\u00f5es anteriores) e infra do segmento PR. Foi administrado gluconato de c\\u00e1lcio endovenoso e resina de troca cati\\u00f4nica via oral (VO), sendo solicitada transfer\\u00eancia para interna\\u00e7\\u00e3o hospitalar. A paciente havia parado de fazer acompanhamento m\\u00e9dico regular, n\\u00e3o comparecendo \\u00e0s consultas nos 2 \\u00faltimos anos. Entretanto, continuava fazendo uso dos seguintes f\\u00e1rmacos: metformina 500 mg VO duas vezes ao dia; hidroclorotiazida 25 mg/dia VO; e anlodipino 10 mg VO duas vezes ao dia. Durante exame f\\u00edsico, a paciente se revela sonolenta, bradips\\u00edquica, com h\\u00e1lito desagrad\\u00e1vel e com solu\\u00e7os. Est\\u00e1 hipocorada (2+/4+), com mucosas \\u00famidas, acian\\u00f3tica, anict\\u00e9rica e afebril. O ritmo card\\u00edaco \\u00e9 regular, em 2 tempos, sendo auscultado um ru\\u00eddo sist\\u00f3lico rude em borda esternal esquerda baixa, al\\u00e9m de um sopro sist\\u00f3lico de baixa intensidade pancard\\u00edaco. H\\u00e1 turg\\u00eancia jugular patol\\u00f3gica, mas n\\u00e3o h\\u00e1 pulso paradoxal arterial ou venoso. Al\\u00e9m disso, apresenta PA = 180 x 100 mmHg; FC = 112 bpm; FR = 26 irpm. A ausculta pulmonar evidencia redu\\u00e7\\u00e3o do murm\\u00fario vesicular nas bases, estendendo-se ao ter\\u00e7o m\\u00e9dio do hemit\\u00f3rax direito. Membros inferiores revelam edema 2+/4+, n\\u00e3o havendo sinais de trombose venosa. Considerando o caso apresentado, assinale a alternativa que indica corretamente quais s\\u00e3o as condutas que o plano de cuidados dessa paciente deve incluir nesse momento?a.\\tIniciar terapia dial\\u00edtica imediata por via de uma f\\u00edstula arteriovenosa; melhorar o controle glic\\u00eamico atrav\\u00e9s da associa\\u00e7\\u00e3o de insuliniza\\u00e7\\u00e3o ao f\\u00e1rmaco hipoglicemiante j\\u00e1 em uso; e ajustar os f\\u00e1rmacos para controle da HAS, incluindo a associa\\u00e7\\u00e3o de furosemida ao esquema em curso.b.\\tProvidenciar acesso venoso profundo com cateter duplo l\\u00famen para in\\u00edcio de terapia dial\\u00edtica; suspender o esquema antidiab\\u00e9tico oral, mantendo controle glic\\u00eamico apenas atrav\\u00e9s de insuliniza\\u00e7\\u00e3o; e ajustar os f\\u00e1rmacos para controle da HAS, incluindo a suspens\\u00e3o do uso da hidroclorotiazida.c.\\tPuncionar o l\\u00edquido peric\\u00e1rdico para definir a causa da pericardite, tratando-a adequadamente; melhorar o controle glic\\u00eamico atrav\\u00e9s da associa\\u00e7\\u00e3o de insuliniza\\u00e7\\u00e3o ao f\\u00e1rmaco hipoglicemiante j\\u00e1 em uso; e ajustar os f\\u00e1rmacos para controle da HAS, incluindo a suspens\\u00e3o do uso da hidroclorotiazida.d.\\tEncaminhar a paciente para o cateterismo coron\\u00e1rio e poss\\u00edvel revasculariza\\u00e7\\u00e3o percut\\u00e2nea; suspender o esquema antidiab\\u00e9tico oral, mantendo controle glic\\u00eamico apenas atrav\\u00e9s de insuliniza\\u00e7\\u00e3o; e ajustar os f\\u00e1rmacos para controle da HAS, incluindo a associa\\u00e7\\u00e3o de furosemida ao esquema em curso.\",\n          \"54.\\tA Agente Comunit\\u00e1ria de Sa\\u00fade (ACS) visitou a casa de uma moradora de 26 anos de idade com suspeita de sofrer viol\\u00eancia intradomiciliar pelo companheiro h\\u00e1 6 meses. Na ocasi\\u00e3o da visita, o companheiro estava no trabalho, a m\\u00e3e das crian\\u00e7as negou problemas e disse que elas estavam dormindo, entretanto, os vizinhos t\\u00eam ouvido brigas frequentes do casal, cujos filhos de 2 e 3 anos de idade choram e gritam muito, al\\u00e9m de apresentarem manchas roxas pelo corpo. Ap\\u00f3s o relato da ACS para a m\\u00e9dica da equipe, qual \\u00e9 a conduta adequada para esse caso?a.\\tOrientar a ACS a acionar a pol\\u00edcia visando ao encaminhamento das crian\\u00e7as a uma delegacia especializada pelos ind\\u00edcios de viol\\u00eancia e pelo risco de revitimiza\\u00e7\\u00e3o.b.\\tRegistrar no Sistema Nacional de Notifica\\u00e7\\u00e3o de Agravos e encaminhar as crian\\u00e7as ao Centro de Aten\\u00e7\\u00e3o Psicossocial Infantojuvenil.c.\\tProgramar visita domiciliar, notificar suspeita de viol\\u00eancia, acionar o Conselho Tutelar considerando as evid\\u00eancias de agress\\u00f5es.d.\\tRespeitar a autonomia da m\\u00e3e, direito fundamental garantido pelo Estatuto da Crian\\u00e7a e do Adolescente.\",\n          \"71.\\tUma mulher com 20 anos de idade procura atendimento hospitalar devido a quadro cl\\u00ednico iniciado h\\u00e1 2 meses com artrite, rash malar, alop\\u00e9cia, al\\u00e9m de anemia por doen\\u00e7a cr\\u00f4nica, leucopenia e protein\\u00faria. A pesquisa do fator antinuclear revela-se positiva para Anti-Sm (t\\u00edtulo 1:640 e padr\\u00e3o nuclear pontilhado grosso). As pesquisas de Anti-Jo-1, Anti-La e Anti-Ro apresentam-se negativas. Em face desse quadro cl\\u00ednico, qual \\u00e9 a principal hip\\u00f3tese diagn\\u00f3stica?a.\\tPolimiosite.b.\\tS\\u00edndrome Sj\\u00f6gren.c.\\tArtrite reumatoide.d.\\tL\\u00fapus eritematoso sist\\u00eamico.\"\n        ],\n        \"semantic_type\": \"\",\n        \"description\": \"\"\n      }\n    },\n    {\n      \"column\": \"Gabarito-2020.02\",\n      \"properties\": {\n        \"dtype\": \"category\",\n        \"num_unique_values\": 5,\n        \"samples\": [\n          \"A\",\n          \"IMAGEM\",\n          \"D\"\n        ],\n        \"semantic_type\": \"\",\n        \"description\": \"\"\n      }\n    },\n    {\n      \"column\": \"Perguntas-2021.01\",\n      \"properties\": {\n        \"dtype\": \"string\",\n        \"num_unique_values\": 100,\n        \"samples\": [\n          \"84.\\tUma mulher de 22 anos de idade foi encaminhada ao servi\\u00e7o de oftalmologia devido \\u00e0 epis\\u00f3dio de olho vermelho, o qual o m\\u00e9dico oftalmologista diagnosticou uma uve\\u00edte anterior aguda. Questionando a paciente, o m\\u00e9dico identificou hist\\u00f3ria de aftas orais recorrentes e dolorosas h\\u00e1 pelo menos 1 ano para as quais n\\u00e3o foi realizada nenhuma investiga\\u00e7\\u00e3o, fazendo uso apenas de corticoides t\\u00f3picos, com al\\u00edvio fugaz. Relata, ainda, que apresenta dor abdominal e diarreia, mais ou menos, no mesmo per\\u00edodo. Refere que as evacua\\u00e7\\u00f5es s\\u00e3o frequentes, cerca de 5 a 6 vezes por dia, em pequeno volume e com sangue e muco vis\\u00edveis em algumas ocasi\\u00f5es. Visando ao esclarecimento diagn\\u00f3stico, o procedimento a ser adotado e o achado esperado, devem ser?a.\\tteste de Patergia; p\\u00fastula visualiz\\u00e1vel no local de pun\\u00e7\\u00e3o ap\\u00f3s 7 dias.b.\\tparasitol\\u00f3gico das fezes pelo MIF (merc\\u00fario, iodo e formol); cistos e trofozo\\u00edtos.c.\\tpesquisa de autoanticorpos (FAN); positivo com padr\\u00e3o nuclear pontilhado fino denso.d.\\tcolonoscopia com biopsia; histopatol\\u00f3gico com granuloma n\\u00e3o caseoso.\",\n          \"54.\\t Uma lactente do sexo feminino, de 18 meses de idade, chega para atendimento em Unidade B\\u00e1sica de Sa\\u00fade. A m\\u00e3e informa que, h\\u00e1 3 dias, a crian\\u00e7a apresentou quadro de convuls\\u00e3o t\\u00f4nico-cl\\u00f4nica generalizada acompanhada de vers\\u00e3o ocular, libera\\u00e7\\u00e3o de esf\\u00edncter vesical e sialorreia, com dura\\u00e7\\u00e3o de aproximadamente 10 minutos. No momento, apresentava temperatura axilar de 38\\u00b0 C. Foi levada ao pronto atendimento, onde chegou sem crise e recebeu alta ap\\u00f3s 4 horas com diagn\\u00f3stico de resfriado comum. O epis\\u00f3dio convulsivo n\\u00e3o se repetiu e a crian\\u00e7a est\\u00e1 afebril h\\u00e1 48 horas. A m\\u00e3e relata epis\\u00f3dio semelhante aos 11 meses de idade. A crian\\u00e7a n\\u00e3o apresenta outros antecedentes pessoais ou familiares relevantes. O seu desenvolvimento neuropsicomotor \\u00e9 normal e o exame cl\\u00ednico n\\u00e3o apresenta altera\\u00e7\\u00f5es. Considerando os dados cl\\u00ednicos da paciente, essa crian\\u00e7a apresenta?a.\\tconvuls\\u00e3o febril simples. A m\\u00e3e deve ser orientada quanto \\u00e0 abordagem nos epis\\u00f3dios febris e a crian\\u00e7a deve manter acompanhamento de rotina na UBS pelo car\\u00e1ter benigno do quadro.b.\\tconvuls\\u00e3o febril simples. O m\\u00e9dico deve prescrever benzodiazep\\u00ednico (diazepam ou nitrazepam) para uso durante os epis\\u00f3dios febris, com objetivo de prevenir epilepsia futura.c.\\tconvuls\\u00e3o febril complexa. A crian\\u00e7a deve realizar eletroencefalograma e tomografia computadorizada de cr\\u00e2nio por n\\u00e3o ser o primeiro epis\\u00f3dio convulsivo febril apresentado.d.\\tconvuls\\u00e3o febril complexa. Os familiares precisam ser alertados sobre a possibilidade de a crian\\u00e7a apresentar desempenho escolar fraco futuramente como sequela dos epis\\u00f3dios convulsivos\",\n          \"71.\\tUma mulher de 30 anos de idade busca orienta\\u00e7\\u00e3o ginecol\\u00f3gica quanto ao uso de m\\u00e9todo contraceptivo. O motivo principal da troca \\u00e9 o sangramento irregular nos \\u00faltimos 6 meses e a mulher n\\u00e3o quer correr o risco de engravidar. Gesta 2; para 2; abortos 0. Nega comorbidades. Atualmente em uso de contraceptivo oral combinado (15 mcg de etinilestradiol e 60 mcg de gestodeno). Diante do caso apresentado, o profissional de sa\\u00fade deve?a.\\ttrocar o m\\u00e9todo por um anticoncepcional injet\\u00e1vel trimestral.b.\\tiniciar p\\u00edlula de desogestrel 75 mcg ap\\u00f3s 1 m\\u00eas de intervalo.c.\\tinterromper o m\\u00e9todo por 3 meses e reiniciar o mesmo esquema.d.\\ttrocar por compostos com doses mais elevadas de estrog\\u00eanio.\"\n        ],\n        \"semantic_type\": \"\",\n        \"description\": \"\"\n      }\n    },\n    {\n      \"column\": \"Gabarito-2021.01\",\n      \"properties\": {\n        \"dtype\": \"category\",\n        \"num_unique_values\": 5,\n        \"samples\": [\n          \"C\",\n          \"NULA\",\n          \"D\"\n        ],\n        \"semantic_type\": \"\",\n        \"description\": \"\"\n      }\n    },\n    {\n      \"column\": \"Perguntas-2022.01\",\n      \"properties\": {\n        \"dtype\": \"string\",\n        \"num_unique_values\": 100,\n        \"samples\": [\n          \"84.\\tUma paciente com 28 anos de idade, nul\\u00edpara, usu\\u00e1ria de anticoncepcional hormonal combinado oral, relata, em consulta, que h\\u00e1 3 dias iniciou com dor em baixo ventre, de forte intensidade, associada a n\\u00e1useas e v\\u00f4mitos, que piorou nas \\u00faltimas 8 horas. Ao exame f\\u00edsico, apresenta press\\u00e3o arterial = 100 x 60 mmHg, temperatura = 39,1\\u02daC, abdome com dor intensa \\u00e0 palpa\\u00e7\\u00e3o no andar inferior e \\u00e0 descompress\\u00e3o brusca em fossas il\\u00edacas. Ao exame especular, verifica\\u2212se a presen\\u00e7a de conte\\u00fado purulento exteriorizando\\u2212se pelo orif\\u00edcio do colo uterino. O toque vaginal evidencia dor \\u00e0 mobiliza\\u00e7\\u00e3o do colo uterino e \\u00e0 palpa\\u00e7\\u00e3o dos anexos, bilateralmente. Diante dessa situa\\u00e7\\u00e3o, a conduta imediata indicada \\u00e9?a.\\tidentificar o agente etiol\\u00f3gico da secre\\u00e7\\u00e3o cervical antes de iniciar o tratamento medicamentoso.b.\\tencaminhar a paciente para tratamento em ambiente hospitalar com antibioticoterapia injet\\u00e1vel.c.\\tinstituir tratamento cl\\u00ednico ambulatorial de imediato para a paciente, com retorno em 48 horas para reavalia\\u00e7\\u00e3o.d.\\tencaminhar a paciente para tratamento cir\\u00fargico a fim de melhor avaliar o comprometimento do sistema reprodutivo.\",\n          \"54.\\tNa Unidade B\\u00e1sica de Sa\\u00fade, uma paciente com 28 anos de idade relata novo relacionamento e desejo de uma nova gravidez. Nega intercorr\\u00eancias nas tr\\u00eas gesta\\u00e7\\u00f5es passadas, informando ter realizado laqueadura tub\\u00e1ria no \\u00faltimo parto, h\\u00e1 3 anos. Relata tamb\\u00e9m que seus ciclos s\\u00e3o regulares e que o exame ginecol\\u00f3gico n\\u00e3o apresentou altera\\u00e7\\u00f5es significativas. Acrescenta que o atual companheiro tamb\\u00e9m tem um filho de uni\\u00e3o anterior, o qual tem 8 anos de idade. No projeto terap\\u00eautico direcionado ao casal, qual dever\\u00e1 ser a indica\\u00e7\\u00e3o inicial?a.\\tEncaminhar o casal para programa de ado\\u00e7\\u00e3o.b.\\tPrescrever indu\\u00e7\\u00e3o de ovula\\u00e7\\u00e3o para reprodu\\u00e7\\u00e3o assistidac.\\tEncaminhar a paciente para cirurgia de recanaliza\\u00e7\\u00e3o tub\\u00e1ria.d.\\tSolicitar exames para excluir outros fatores de infertilidade.\",\n          \"71.\\tTabela\"\n        ],\n        \"semantic_type\": \"\",\n        \"description\": \"\"\n      }\n    },\n    {\n      \"column\": \"Gabarito-2022.01\",\n      \"properties\": {\n        \"dtype\": \"category\",\n        \"num_unique_values\": 5,\n        \"samples\": [\n          \"C\",\n          \"B\",\n          \"D\"\n        ],\n        \"semantic_type\": \"\",\n        \"description\": \"\"\n      }\n    },\n    {\n      \"column\": \"Perguntas-2022.02\",\n      \"properties\": {\n        \"dtype\": \"string\",\n        \"num_unique_values\": 100,\n        \"samples\": [\n          \"84.\\tMulher de 36 anos de idade, G3P3A0 (3 partos vaginais), compareceu a consulta no centro de sa\\u00fade, para renovar receita de anticoncepcional injet\\u00e1vel mensal. Faz uso do m\\u00e9todo contraceptivo h\\u00e1 5 anos, com boa adapta\\u00e7\\u00e3o, e n\\u00e3o deseja nova gesta\\u00e7\\u00e3o. \\u00c9 tabagista, fuma 20 cigarros por dia, e \\u00e9 etilista social. Tem parceiro \\u00fanico h\\u00e1 10 anos. Nega uso de preservativo nas rela\\u00e7\\u00f5es sexuais. Diante das informa\\u00e7\\u00f5es, qual \\u00e9 a orienta\\u00e7\\u00e3o de m\\u00e9todo anticoncepcional mais adequado para essa paciente?a.\\tUsar contraceptivo oral al\\u00e9m do injet\\u00e1vel mensal.b.\\tSubstituir o m\\u00e9todo utilizado pelo anel vaginalc.\\tInserir dispositivo intrauterino (DIU) de cobre.d.\\tManter o esquema conceptivo adotado.\",\n          \"54.\\tSecundigesta de 25 anos de idade procurou a cl\\u00ednica da fam\\u00edlia para iniciar seu pr\\u00e9-natal na 16\\u00aa semana de gesta\\u00e7\\u00e3o. Referiu ter tido um parto pr\\u00e9-termo anterior, na 21\\u00aa semana de gesta\\u00e7\\u00e3o. Trouxe consigo uma ultrassonografia transvaginal, que mostrou colo do \\u00fatero de 43 mm de comprimento. Qual \\u00e9 a conduta mais efetiva a ser proposta nesse momento, a fim de reduzir a ocorr\\u00eancia de uma nova perda gestacional nessa paciente?a.\\tIndica\\u00e7\\u00e3o de cerclagem eletiva via transvaginal.b.\\tUso de progesterona natural micronizada 200 mg \\u00e0 noitec.\\tSuplementa\\u00e7\\u00e3o di\\u00e1ria de \\u00e1cido f\\u00f3lico associado a \\u00f4mega 3.d.\\tRastreio de estreptococo do grupo B em cultura vaginal e retal.\",\n          \"71.\\tPaciente de 72 anos, com diagn\\u00f3stico recente (e j\\u00e1 em in\\u00edcio de tratamento) de adenocarcinoma ductal infiltrante de mama, retornou ao ambulat\\u00f3rio de cl\\u00ednica m\\u00e9dica, com queixa de \\u201cincha\\u00e7o\\u201d. Ela informou que tem acordado com edema palpebral bilateral e edema em membros inferiores, predominantemente vespertino. Negou dispneia. Referiu urina espumosa. Em sua hist\\u00f3ria patol\\u00f3gica pregressa, h\\u00e1 relato de hipertens\\u00e3o arterial sist\\u00eamica, estando ela em tratamento com anlodipino e atenolol. No exame, a paciente mostrava-se levemente hipocorada, apresentando edema peripalpebral bilateral e edema de membros inferiores (3+/4+); sua press\\u00e3o arterial se encontrava em 140 \\u00d7 88 mmHg. Exames complementares solicitados revelaram dislipidemia (hipercolesterolemia \\u00e0s custas de LDL-colesterol), hipoalbuminemia (2,4 g/dL) e prote\\u00edna na urina de 24 horas no valor de 4,2 g (valor de refer\\u00eancia < 0,15 g). A hip\\u00f3tese diagn\\u00f3stica mais prov\\u00e1vel para a queixa atual da paciente \\u00e9?a.\\tdisfun\\u00e7\\u00e3o hep\\u00e1tica precipitada por met\\u00e1stases do c\\u00e2ncer de mama e hipertens\\u00e3o portal.b.\\tangioedema induzido pelo esquema quimioter\\u00e1pico.c.\\tcardiotoxicidade secund\\u00e1ria ao esquema quimioter\\u00e1pico com insufici\\u00eancia card\\u00edaca descompensada perfil B.d.\\tnefropatia membranosa paraneopl\\u00e1sica com s\\u00edndrome nefr\\u00f3tica.\"\n        ],\n        \"semantic_type\": \"\",\n        \"description\": \"\"\n      }\n    },\n    {\n      \"column\": \"Gabarito-2022.02\",\n      \"properties\": {\n        \"dtype\": \"category\",\n        \"num_unique_values\": 5,\n        \"samples\": [\n          \"A\",\n          \"NULA\",\n          \"B\"\n        ],\n        \"semantic_type\": \"\",\n        \"description\": \"\"\n      }\n    },\n    {\n      \"column\": \"Perguntas-2023.01\",\n      \"properties\": {\n        \"dtype\": \"string\",\n        \"num_unique_values\": 100,\n        \"samples\": [\n          \"84.\\tUma paciente com 35 anos, casada, nuligesta, procurou atendimento especializado, queixando-se de ciclos irregulares, fogachos, ins\\u00f4nia, diminui\\u00e7\\u00e3o da lubrifica\\u00e7\\u00e3o vaginal e da libido. O m\\u00e9dico, ap\\u00f3s solicita\\u00e7\\u00e3o de exames e verifica\\u00e7\\u00e3o dos resultados, fez o diagn\\u00f3stico de insufici\\u00eancia ovariana. Nesse caso, o diagn\\u00f3stico p\\u00f4de ser confirmado com base nos resultados dos seguintes exames?a.\\tFSH e estradiol elevados, inibina baixa.b.\\tFSH elevado, estradiol e inibina baixosc.\\tFSH baixo, estradiol e inibina elevados.d.\\tFSH e estradiol baixos, inibina elevada.\",\n          \"54.\\tO nascimento prematuro continua sendo a principal causa de mortalidade e morbidade perinatais, sendo respons\\u00e1vel por at\\u00e9 dois ter\\u00e7os das mortes neonatais e por d\\u00e9ficits f\\u00edsicos, mentais e do desenvolvimento de longo prazo. Nos \\u00faltimos trinta anos, os avan\\u00e7os foram significativos nos cuidados neonatais e na redu\\u00e7\\u00e3o da mortalidade infantil na prematuridade, por\\u00e9m as morbidades e as consequ\\u00eancias em longo prazo permanecem. Acerca dos cuidados gestacionais para evitar a prematuridade, assinale a op\\u00e7\\u00e3o correta?a.\\tAs evid\\u00eancias cient\\u00edficas indicam a efic\\u00e1cia de uso de progesterona por toda gestante na preven\\u00e7\\u00e3o \\u00e0 prematuridade.b.\\tAs pacientes no est\\u00e1gio 3, conforme a Classifica\\u00e7\\u00e3o de Risco de Hobel, devem continuar em acompanhamento ambulatorial.c.\\tA infec\\u00e7\\u00e3o urin\\u00e1ria \\u00e9 fator de risco para a prematuridade, devendo toda gestante com bacteri\\u00faria assintom\\u00e1tica ser submetida \\u00e0 antibioticoterapia.d.\\tOs bloqueadores de canal de c\\u00e1lcio s\\u00e3o medicamentos proibidos na inibi\\u00e7\\u00e3o dos trabalhos de parto por causarem hipotens\\u00e3o materna e baixo fluxo placent\\u00e1rio.\",\n          \"71.\\tUm homem com 38 anos foi encaminhado ao ambulat\\u00f3rio de refer\\u00eancia em infectologia do seu munic\\u00edpio devido a epis\\u00f3dios de cefaleia, confus\\u00e3o mental e febre (at\\u00e9 38,5 \\u00b0C) ocorridos h\\u00e1 cerca de uma semana, tendo havido perda de peso no \\u00faltimo m\\u00eas (peso habitual = 70 kg). Ele relata que, no dia anterior, iniciou com rebaixamento do n\\u00edvel de consci\\u00eancia, encontrando-se let\\u00e1rgico no momento da consulta. Nega tosse ou diarreia. Os familiares contam que o paciente \\u00e9 tabagista e que faz consumo excessivo de bebida alco\\u00f3lica. Os exames iniciais mostraram leuc\\u00f3citos: 3.200/mm3, com 69% de neutr\\u00f3filos, 21% de linf\\u00f3citos e 10% de eosin\\u00f3filos; anemia hipocr\\u00f4mica, microc\\u00edtica, com anisocitose; plaquetas normais; velocidade de hemossedimenta\\u00e7\\u00e3o: 120 mm na 1\\u00aa hora; ureia, creatinina, TGO/AST, TGP/ALT, eletr\\u00f3litos normais. Foi realizada a an\\u00e1lise do l\\u00edquido cefalorraquidiano (LCR), que mostrou 200 leuc\\u00f3citos/mm3, com 78% de linf\\u00f3citos, n\\u00edveis elevados de prote\\u00edna, baixos n\\u00edveis de glicose e tinta nanquim negativa. Considerando-se o quadro descrito, a hip\\u00f3tese diagn\\u00f3stica pertinente ao caso \\u00e9 de?a.\\tmeningite tuberculosa.b.\\tmeningite bacterianac.\\tneurocriptococose.d.\\tmeningite viral.\"\n        ],\n        \"semantic_type\": \"\",\n        \"description\": \"\"\n      }\n    },\n    {\n      \"column\": \"Gabarito-2023.01\",\n      \"properties\": {\n        \"dtype\": \"category\",\n        \"num_unique_values\": 6,\n        \"samples\": [\n          \"D\",\n          \"B\",\n          \"IMAGEM\"\n        ],\n        \"semantic_type\": \"\",\n        \"description\": \"\"\n      }\n    },\n    {\n      \"column\": \"Perguntas-2023.02\",\n      \"properties\": {\n        \"dtype\": \"string\",\n        \"num_unique_values\": 100,\n        \"samples\": [\n          \"84.\\tUma paciente primigesta, de 30 anos, com 24 semanas de gesta\\u00e7\\u00e3o, encontra-se internada em uma maternidade para introdu\\u00e7\\u00e3o de insulina, devido a diabetes gestacional, a fim de obter melhor controle metab\\u00f3lico. A paciente relata que o beb\\u00ea tem se mexido menos nas \\u00faltimas 24 horas. O m\\u00e9dico indica a realiza\\u00e7\\u00e3o de uma cardiotocografia de repouso. Nesse caso, a indica\\u00e7\\u00e3o da cardiotocografia est\\u00e1?a.\\tincorreta, pois a cardiotocografia \\u00e9 contraindicada em caso de diabetes gestacional, devido \\u00e0s oscila\\u00e7\\u00f5es metab\\u00f3licas frequentes.b.\\tcorreta, pois, no caso de diabetes descompensado, a cardiotocografia \\u00e9 o exame de escolha para avalia\\u00e7\\u00e3o precoce da vitalidade fetal.c.\\tcorreta, pois \\u00e9 o primeiro exame a ser solicitado em caso de suspeita de sofrimento fetal decorrente de diabetes, com alta sensibilidade.d.\\tincorreta, pois, nessa idade gestacional, pela imaturidade no equil\\u00edbrio dos sistemas simp\\u00e1tico e parassimp\\u00e1tico do feto, \\u00e9 alta a taxa de resultados falso-positivos.\",\n          \"54.\\tDuas gestantes procuram atendimento na emerg\\u00eancia da maternidade: Paciente X, de 17 anos, primigesta; realizou quatro consultas no pr\\u00e9-natal da unidade b\\u00e1sica de sa\\u00fade, onde n\\u00e3o foi feita cultura para pesquisa do estreptococo do grupo B (EGB). A paciente comparece \\u00e0 maternidade com perda l\\u00edquida desde o dia anterior; sem outras queixas. Sua idade gestacional calculada pela ultrassonografia \\u00e9 de 35 semanas e 5 dias e o obstetra confirmou amniorrexe no exame especular. Paciente Y, de 31 anos, tercigesta, com duas cesarianas anteriores; apresenta hipertens\\u00e3o cr\\u00f4nica controlada com metildopa 1g/dia. A paciente realizou, no pr\\u00e9-natal de alto risco, cultura para EGB com 36 semanas e o resultado foi negativo. Ela comparece \\u00e0 maternidade sem queixas, pois foi encaminhada pela obstetra para cesariana eletiva com 39 semanas. Com rela\\u00e7\\u00e3o aos casos apresentados, \\u00e9 correto afirmar que a antibioticoprofilaxia intraparto com a finalidade de prevenir a doen\\u00e7a neonatal de in\\u00edcio precoce por estreptococo do grupo B \\u00e9 obrigat\\u00f3ria?a.\\tapenas na paciente Y, pois, apesar de a cultura realizada para EGB ser negativa, a paciente \\u00e9 mult\\u00edpara e hipertensa.b.\\tem ambas as pacientes, pois elas possuem fatores de risco para doen\\u00e7a neonatal de in\\u00edcio precoce por estreptococo do grupo B.c.\\tapenas na paciente X, pois sua idade gestacional \\u00e9 inferior a 37 semanas e houve diagn\\u00f3stico de rotura prematura de membranas ovulares.d.\\tem nenhuma das pacientes, pois ambas n\\u00e3o possuem fatores de risco para doen\\u00e7a neonatal de in\\u00edcio precoce por estreptococo do grupo B.\",\n          \"71.\\tImagem\"\n        ],\n        \"semantic_type\": \"\",\n        \"description\": \"\"\n      }\n    },\n    {\n      \"column\": \"Gabarito-2023.02\",\n      \"properties\": {\n        \"dtype\": \"category\",\n        \"num_unique_values\": 5,\n        \"samples\": [\n          \"D\",\n          \"IMAGEM\",\n          \"A\"\n        ],\n        \"semantic_type\": \"\",\n        \"description\": \"\"\n      }\n    },\n    {\n      \"column\": \"Perguntas-2024.01\",\n      \"properties\": {\n        \"dtype\": \"string\",\n        \"num_unique_values\": 100,\n        \"samples\": [\n          \"84 Uma mulher com 70 anos foi encaminhada para o ambulat\\u00f3rio de patologia cervical/vulvar por causa de uma les\\u00e3o avermelhada, pruriginosa, pr\\u00f3xima ao clit\\u00f3ris. Fez uso de corticosteroides t\\u00f3picos e sist\\u00eamicos, com melhora parcial do prurido, mas sem altera\\u00e7\\u00e3o da les\\u00e3o. Tamb\\u00e9m fez uso oral de fluconazol, sem resposta ao tratamento. O resultado da pesquisa de DNA de HPV foi negativo. Ao exame da paciente, evidenciou-se uma les\\u00e3o no clit\\u00f3ris medindo 2 cm, eritematosa, com \\u00e1rea de descama\\u00e7\\u00e3o, al\\u00e9m de l\\u00edquen escleroso acometendo parte do clit\\u00f3ris e pequenos l\\u00e1bios. A partir da situa\\u00e7\\u00e3o apresentada, o m\\u00e9dico deve solicitar A vulvoscopia e realizar a bi\\u00f3psia da les\\u00e3o. B testes al\\u00e9rgicos e iniciar clobetasol t\\u00f3pico. C cultura de fungos e tratar com cetoconazol t\\u00f3pico. D teste de azul de toluidina e indicar vulvectomia simples. \",\n          \"54 Uma paciente com 70 anos, menopausa ocorrida aos 52 anos, queixa-se de sangramento vaginal de pequena quantidade e intermitente, com 3 meses de evolu\\u00e7\\u00e3o. N\\u00e3o tem hist\\u00f3ria pr\\u00e9via de doen\\u00e7a neopl\\u00e1sica pr\\u00e9-invasiva e teve dois citopatol\\u00f3gicos negativos consecutivos dos 59 at\\u00e9 os 64 anos. O exame especular realizado na \\u00faltima consulta n\\u00e3o demonstrou les\\u00f5es aparentes. Est\\u00e1 acompanhada pela filha, que afirma estar muito ansiosa, porque leu casos parecidos relatados na internet e acha que a m\\u00e3e pode estar com \\\"\\\"c\\u00e2ncer de \\u00fatero\\\"\\\". A paciente \\u00e9 tabagista (1 ma\\u00e7o/dia), h\\u00e1 40 anos, e apresenta hist\\u00f3ria m\\u00f3rbida pregressa de hipertens\\u00e3o arterial sist\\u00eamica, em tratamento, e de intoler\\u00e2ncia glic\\u00eamica, em tratamento, via oral. Conta que pratica pilates 3 vezes por semana e que tem independ\\u00eancia financeira e social, apresentando-se calma durante a consulta. Ao exame f\\u00edsico, encontra-se l\\u00facida, orientada, contactuante e atenta. Seu IMC \\u00e9 de 30 kg/m\\u00b2. Os exames laboratoriais n\\u00e3o apresentam particularidades. Informa que gostaria de decidir sobre sua sa\\u00fade por conta pr\\u00f3pria. Considerando esse caso, o m\\u00e9dico generalista da aten\\u00e7\\u00e3o prim\\u00e1ria deve A comunicar o quadro cl\\u00ednico \\u00e0 filha da paciente, que dever\\u00e1 se encarregar de explic\\u00e1-lo \\u00e0 m\\u00e3e, porque \\u00e9 idosa, e orientar que n\\u00e3o ser\\u00e3o necess\\u00e1rios exames adicionais. B respeitar o direito \\u00e0 autonomia, privacidade e sigilo m\\u00e9dico da paciente idosa, j\\u00e1 que ela demonstra ser capaz de autogerir-se, e solicitar ultrassonografia transvaginal. C explicar que \\u00e9 obrigat\\u00f3ria a presen\\u00e7a de um respons\\u00e1vel pela paciente, por ser idosa, para a continuidade do tratamento, e solicitar CA 125 e ultrassonografia transvaginal. D explicar que a fam\\u00edlia deve ser comunicada do ocorrido com a paciente e que, devido \\u00e0 idade, o tratamento \\u00e9 expectante, orientando que n\\u00e3o ser\\u00e3o necess\\u00e1rios exames adicionais.\\\" \",\n          \"71 Uma mulher com 37 anos \\u00e9 levada pelos familiares a uma unidade de pronto atendimento devido a rebaixamento do n\\u00edvel de consci\\u00eancia. Os familiares informam que ela j\\u00e1 vinha se queixando de cefaleia frequente h\\u00e1 alguns dias, al\\u00e9m de dificuldades visuais e, mais recentemente, apresentou epis\\u00f3dios de v\\u00f4mitos. Relatam que, de manh\\u00e3, antes da consulta, ela havia se mostrado gradativamente sonolenta e pouco responsiva. Contam que a paciente faz tratamento irregular para HIV/Aids, n\\u00e3o sabendo informar a data da \\u00faltima consulta de acompanhamento da doen\\u00e7a. Ao exame f\\u00edsico, ela n\\u00e3o apresenta d\\u00e9ficits focais; verificando- se press\\u00e3o arterial de 160 x 100 mmHg, frequ\\u00eancia card\\u00edaca de 48 bpm, frequ\\u00eancia respirat\\u00f3ria de 10 irpm, de padr\\u00e3o irregular. Constata-se, ainda, que a paciente apresenta edema de papila bilateralmente; escala de Coma de Glasgow de 12. Considerando-se o caso descrito, a conduta inicial adequada \\u00e9 solicitar A pun\\u00e7\\u00e3o lombar. B eletroencefalograma. C tomografia computadorizada de cr\\u00e2nio. D contagem de CD4 e carga viral para HIV. \"\n        ],\n        \"semantic_type\": \"\",\n        \"description\": \"\"\n      }\n    },\n    {\n      \"column\": \"Gabarito-2024.01\",\n      \"properties\": {\n        \"dtype\": \"category\",\n        \"num_unique_values\": 11,\n        \"samples\": [\n          \" C\",\n          \"A\",\n          \"TABELA\"\n        ],\n        \"semantic_type\": \"\",\n        \"description\": \"\"\n      }\n    }\n  ]\n}",
       "type": "dataframe",
       "variable_name": "provas"
      },
      "text/html": [
       "\n",
       "  <div id=\"df-53d1a15b-fc54-4cb2-a5ca-2dcfde6b542c\" class=\"colab-df-container\">\n",
       "    <div>\n",
       "<style scoped>\n",
       "    .dataframe tbody tr th:only-of-type {\n",
       "        vertical-align: middle;\n",
       "    }\n",
       "\n",
       "    .dataframe tbody tr th {\n",
       "        vertical-align: top;\n",
       "    }\n",
       "\n",
       "    .dataframe thead th {\n",
       "        text-align: right;\n",
       "    }\n",
       "</style>\n",
       "<table border=\"1\" class=\"dataframe\">\n",
       "  <thead>\n",
       "    <tr style=\"text-align: right;\">\n",
       "      <th></th>\n",
       "      <th>Perguntas-2017.01</th>\n",
       "      <th>Gabarito-2017.01</th>\n",
       "      <th>Perguntas-2017.02</th>\n",
       "      <th>Gabarito-2017.02</th>\n",
       "      <th>Perguntas-2020.01</th>\n",
       "      <th>Gabarito-2020.01</th>\n",
       "      <th>Perguntas-2020.02</th>\n",
       "      <th>Gabarito-2020.02</th>\n",
       "      <th>Perguntas-2021.01</th>\n",
       "      <th>Gabarito-2021.01</th>\n",
       "      <th>Perguntas-2022.01</th>\n",
       "      <th>Gabarito-2022.01</th>\n",
       "      <th>Perguntas-2022.02</th>\n",
       "      <th>Gabarito-2022.02</th>\n",
       "      <th>Perguntas-2023.01</th>\n",
       "      <th>Gabarito-2023.01</th>\n",
       "      <th>Perguntas-2023.02</th>\n",
       "      <th>Gabarito-2023.02</th>\n",
       "      <th>Perguntas-2024.01</th>\n",
       "      <th>Gabarito-2024.01</th>\n",
       "    </tr>\n",
       "  </thead>\n",
       "  <tbody>\n",
       "    <tr>\n",
       "      <th>0</th>\n",
       "      <td>1.\\tUma mulher com 23 anos de idade comparece ...</td>\n",
       "      <td>NULA</td>\n",
       "      <td>1.\\tUma mulher com 38 anos de idade procurou a...</td>\n",
       "      <td>C</td>\n",
       "      <td>1.\\tAo atender uma primigesta com 15 anos de i...</td>\n",
       "      <td>A</td>\n",
       "      <td>1.\\tUma mulher com 43 anos de idade, com 80 kg...</td>\n",
       "      <td>C</td>\n",
       "      <td>1.\\tPrimigesta, de 25 anos de idade, com 34 se...</td>\n",
       "      <td>B</td>\n",
       "      <td>1.\\tUma mulher com 51 anos de idade, em tratam...</td>\n",
       "      <td>NULA</td>\n",
       "      <td>1.\\tIMAGEM</td>\n",
       "      <td>C</td>\n",
       "      <td>1.\\tUm paciente com 54 anos, em acompanhamento...</td>\n",
       "      <td>D</td>\n",
       "      <td>1.\\tUma mulher de 60 anos, hipertensa, em uso ...</td>\n",
       "      <td>B</td>\n",
       "      <td>1 Uma mulher com 25 anos, solteira, sem comorb...</td>\n",
       "      <td>A</td>\n",
       "    </tr>\n",
       "    <tr>\n",
       "      <th>1</th>\n",
       "      <td>2.\\tUm homem com 65 anos de idade encontra-se ...</td>\n",
       "      <td>B</td>\n",
       "      <td>2.\\tUma mulher com 23 anos de idade comparece ...</td>\n",
       "      <td>NULA</td>\n",
       "      <td>2.\\tUma mulher com 35 anos de idade exerce pro...</td>\n",
       "      <td>C</td>\n",
       "      <td>2.\\tAo atender uma primigesta com 15 anos de i...</td>\n",
       "      <td>A</td>\n",
       "      <td>2.\\tUm recém-nascido com 20 dias de vida dá en...</td>\n",
       "      <td>C</td>\n",
       "      <td>2.\\tUm paciente com 72 anos de idade, tabagist...</td>\n",
       "      <td>C</td>\n",
       "      <td>2.\\tHomem de 75 anos de idade, tabagista 1 maç...</td>\n",
       "      <td>A</td>\n",
       "      <td>2.\\tUm homem com 62 anos comparece, acompanhad...</td>\n",
       "      <td>D</td>\n",
       "      <td>2.\\tUm paciente de 48 anos é internado devido ...</td>\n",
       "      <td>D</td>\n",
       "      <td>2 Um paciente com 28 anos, vítima de atropelam...</td>\n",
       "      <td>A</td>\n",
       "    </tr>\n",
       "    <tr>\n",
       "      <th>2</th>\n",
       "      <td>3.\\tUma mulher com 38 anos de idade procurou a...</td>\n",
       "      <td>C</td>\n",
       "      <td>3.\\tUm homem com 65 anos de idade encontra-se ...</td>\n",
       "      <td>B</td>\n",
       "      <td>3.\\tUma mulher com 43 anos de idade, com 80 kg...</td>\n",
       "      <td>C</td>\n",
       "      <td>3.\\tUma mulher com 35 anos de idade exerce pro...</td>\n",
       "      <td>C</td>\n",
       "      <td>3.\\t Um homem, de 37 anos de idade, com AIDS/H...</td>\n",
       "      <td>B</td>\n",
       "      <td>3.\\tUm menino com 5 anos de idade, acompanhado...</td>\n",
       "      <td>C</td>\n",
       "      <td>3.\\tLactente de 6 meses está sendo atendido na...</td>\n",
       "      <td>B</td>\n",
       "      <td>3.\\tUma lactente com 6 meses, nascida a termo,...</td>\n",
       "      <td>B</td>\n",
       "      <td>3.\\tUm menino de 9 anos, com peso de 29 kg e a...</td>\n",
       "      <td>D</td>\n",
       "      <td>3 Um lactente com 3 meses comparece a uma cons...</td>\n",
       "      <td>C</td>\n",
       "    </tr>\n",
       "    <tr>\n",
       "      <th>3</th>\n",
       "      <td>4.\\tIMAGEM</td>\n",
       "      <td>IMAGEM</td>\n",
       "      <td>4.\\tUma mulher com 32 anos de idade, no quinto...</td>\n",
       "      <td>B</td>\n",
       "      <td>4.\\tUma mulher com 18 anos de idade vai ao amb...</td>\n",
       "      <td>A</td>\n",
       "      <td>4.\\tUma mulher com 48 anos de idade vai a uma ...</td>\n",
       "      <td>D</td>\n",
       "      <td>4.\\tPaciente teve parto cesárea há 8 dias e re...</td>\n",
       "      <td>D</td>\n",
       "      <td>4.\\tSegundo o Instituto Nacional do Câncer (IN...</td>\n",
       "      <td>D</td>\n",
       "      <td>4.\\tAdolescente de 14 anos de idade, primípara...</td>\n",
       "      <td>D</td>\n",
       "      <td>4.\\tUma paciente com 21 anos, nuligesta, compa...</td>\n",
       "      <td>A</td>\n",
       "      <td>4.\\tUma mulher de 49 anos comparece à unidade ...</td>\n",
       "      <td>B</td>\n",
       "      <td>4 Uma gestante com 24 anos, G2 P1 A0, chega à ...</td>\n",
       "      <td>D</td>\n",
       "    </tr>\n",
       "    <tr>\n",
       "      <th>4</th>\n",
       "      <td>5.\\tUma criança com 4 anos de idade, cujos pai...</td>\n",
       "      <td>A</td>\n",
       "      <td>5.\\tIMAGEM</td>\n",
       "      <td>B</td>\n",
       "      <td>5.\\tUma criança com 6 anos de idade é levada p...</td>\n",
       "      <td>B</td>\n",
       "      <td>5.\\tUma mulher com 18 anos de idade vai ao amb...</td>\n",
       "      <td>A</td>\n",
       "      <td>5.\\tPaciente de 68 anos de idade, do sexo masc...</td>\n",
       "      <td>B</td>\n",
       "      <td>5.\\tUm homem com 48 anos de idade é obeso, tab...</td>\n",
       "      <td>A</td>\n",
       "      <td>5.\\tUma mulher de 34 anos com diagnóstico de d...</td>\n",
       "      <td>D</td>\n",
       "      <td>5.\\tSindemia é um conjunto de problemas de saú...</td>\n",
       "      <td>A</td>\n",
       "      <td>5.\\tEm um território com população em situação...</td>\n",
       "      <td>B</td>\n",
       "      <td>5 Ao assumir a coordenação de uma equipe de sa...</td>\n",
       "      <td>A</td>\n",
       "    </tr>\n",
       "  </tbody>\n",
       "</table>\n",
       "</div>\n",
       "    <div class=\"colab-df-buttons\">\n",
       "\n",
       "  <div class=\"colab-df-container\">\n",
       "    <button class=\"colab-df-convert\" onclick=\"convertToInteractive('df-53d1a15b-fc54-4cb2-a5ca-2dcfde6b542c')\"\n",
       "            title=\"Convert this dataframe to an interactive table.\"\n",
       "            style=\"display:none;\">\n",
       "\n",
       "  <svg xmlns=\"http://www.w3.org/2000/svg\" height=\"24px\" viewBox=\"0 -960 960 960\">\n",
       "    <path d=\"M120-120v-720h720v720H120Zm60-500h600v-160H180v160Zm220 220h160v-160H400v160Zm0 220h160v-160H400v160ZM180-400h160v-160H180v160Zm440 0h160v-160H620v160ZM180-180h160v-160H180v160Zm440 0h160v-160H620v160Z\"/>\n",
       "  </svg>\n",
       "    </button>\n",
       "\n",
       "  <style>\n",
       "    .colab-df-container {\n",
       "      display:flex;\n",
       "      gap: 12px;\n",
       "    }\n",
       "\n",
       "    .colab-df-convert {\n",
       "      background-color: #E8F0FE;\n",
       "      border: none;\n",
       "      border-radius: 50%;\n",
       "      cursor: pointer;\n",
       "      display: none;\n",
       "      fill: #1967D2;\n",
       "      height: 32px;\n",
       "      padding: 0 0 0 0;\n",
       "      width: 32px;\n",
       "    }\n",
       "\n",
       "    .colab-df-convert:hover {\n",
       "      background-color: #E2EBFA;\n",
       "      box-shadow: 0px 1px 2px rgba(60, 64, 67, 0.3), 0px 1px 3px 1px rgba(60, 64, 67, 0.15);\n",
       "      fill: #174EA6;\n",
       "    }\n",
       "\n",
       "    .colab-df-buttons div {\n",
       "      margin-bottom: 4px;\n",
       "    }\n",
       "\n",
       "    [theme=dark] .colab-df-convert {\n",
       "      background-color: #3B4455;\n",
       "      fill: #D2E3FC;\n",
       "    }\n",
       "\n",
       "    [theme=dark] .colab-df-convert:hover {\n",
       "      background-color: #434B5C;\n",
       "      box-shadow: 0px 1px 3px 1px rgba(0, 0, 0, 0.15);\n",
       "      filter: drop-shadow(0px 1px 2px rgba(0, 0, 0, 0.3));\n",
       "      fill: #FFFFFF;\n",
       "    }\n",
       "  </style>\n",
       "\n",
       "    <script>\n",
       "      const buttonEl =\n",
       "        document.querySelector('#df-53d1a15b-fc54-4cb2-a5ca-2dcfde6b542c button.colab-df-convert');\n",
       "      buttonEl.style.display =\n",
       "        google.colab.kernel.accessAllowed ? 'block' : 'none';\n",
       "\n",
       "      async function convertToInteractive(key) {\n",
       "        const element = document.querySelector('#df-53d1a15b-fc54-4cb2-a5ca-2dcfde6b542c');\n",
       "        const dataTable =\n",
       "          await google.colab.kernel.invokeFunction('convertToInteractive',\n",
       "                                                    [key], {});\n",
       "        if (!dataTable) return;\n",
       "\n",
       "        const docLinkHtml = 'Like what you see? Visit the ' +\n",
       "          '<a target=\"_blank\" href=https://colab.research.google.com/notebooks/data_table.ipynb>data table notebook</a>'\n",
       "          + ' to learn more about interactive tables.';\n",
       "        element.innerHTML = '';\n",
       "        dataTable['output_type'] = 'display_data';\n",
       "        await google.colab.output.renderOutput(dataTable, element);\n",
       "        const docLink = document.createElement('div');\n",
       "        docLink.innerHTML = docLinkHtml;\n",
       "        element.appendChild(docLink);\n",
       "      }\n",
       "    </script>\n",
       "  </div>\n",
       "\n",
       "\n",
       "    <div id=\"df-0211d376-919a-4312-a2f7-917b142c550c\">\n",
       "      <button class=\"colab-df-quickchart\" onclick=\"quickchart('df-0211d376-919a-4312-a2f7-917b142c550c')\"\n",
       "                title=\"Suggest charts\"\n",
       "                style=\"display:none;\">\n",
       "\n",
       "<svg xmlns=\"http://www.w3.org/2000/svg\" height=\"24px\"viewBox=\"0 0 24 24\"\n",
       "     width=\"24px\">\n",
       "    <g>\n",
       "        <path d=\"M19 3H5c-1.1 0-2 .9-2 2v14c0 1.1.9 2 2 2h14c1.1 0 2-.9 2-2V5c0-1.1-.9-2-2-2zM9 17H7v-7h2v7zm4 0h-2V7h2v10zm4 0h-2v-4h2v4z\"/>\n",
       "    </g>\n",
       "</svg>\n",
       "      </button>\n",
       "\n",
       "<style>\n",
       "  .colab-df-quickchart {\n",
       "      --bg-color: #E8F0FE;\n",
       "      --fill-color: #1967D2;\n",
       "      --hover-bg-color: #E2EBFA;\n",
       "      --hover-fill-color: #174EA6;\n",
       "      --disabled-fill-color: #AAA;\n",
       "      --disabled-bg-color: #DDD;\n",
       "  }\n",
       "\n",
       "  [theme=dark] .colab-df-quickchart {\n",
       "      --bg-color: #3B4455;\n",
       "      --fill-color: #D2E3FC;\n",
       "      --hover-bg-color: #434B5C;\n",
       "      --hover-fill-color: #FFFFFF;\n",
       "      --disabled-bg-color: #3B4455;\n",
       "      --disabled-fill-color: #666;\n",
       "  }\n",
       "\n",
       "  .colab-df-quickchart {\n",
       "    background-color: var(--bg-color);\n",
       "    border: none;\n",
       "    border-radius: 50%;\n",
       "    cursor: pointer;\n",
       "    display: none;\n",
       "    fill: var(--fill-color);\n",
       "    height: 32px;\n",
       "    padding: 0;\n",
       "    width: 32px;\n",
       "  }\n",
       "\n",
       "  .colab-df-quickchart:hover {\n",
       "    background-color: var(--hover-bg-color);\n",
       "    box-shadow: 0 1px 2px rgba(60, 64, 67, 0.3), 0 1px 3px 1px rgba(60, 64, 67, 0.15);\n",
       "    fill: var(--button-hover-fill-color);\n",
       "  }\n",
       "\n",
       "  .colab-df-quickchart-complete:disabled,\n",
       "  .colab-df-quickchart-complete:disabled:hover {\n",
       "    background-color: var(--disabled-bg-color);\n",
       "    fill: var(--disabled-fill-color);\n",
       "    box-shadow: none;\n",
       "  }\n",
       "\n",
       "  .colab-df-spinner {\n",
       "    border: 2px solid var(--fill-color);\n",
       "    border-color: transparent;\n",
       "    border-bottom-color: var(--fill-color);\n",
       "    animation:\n",
       "      spin 1s steps(1) infinite;\n",
       "  }\n",
       "\n",
       "  @keyframes spin {\n",
       "    0% {\n",
       "      border-color: transparent;\n",
       "      border-bottom-color: var(--fill-color);\n",
       "      border-left-color: var(--fill-color);\n",
       "    }\n",
       "    20% {\n",
       "      border-color: transparent;\n",
       "      border-left-color: var(--fill-color);\n",
       "      border-top-color: var(--fill-color);\n",
       "    }\n",
       "    30% {\n",
       "      border-color: transparent;\n",
       "      border-left-color: var(--fill-color);\n",
       "      border-top-color: var(--fill-color);\n",
       "      border-right-color: var(--fill-color);\n",
       "    }\n",
       "    40% {\n",
       "      border-color: transparent;\n",
       "      border-right-color: var(--fill-color);\n",
       "      border-top-color: var(--fill-color);\n",
       "    }\n",
       "    60% {\n",
       "      border-color: transparent;\n",
       "      border-right-color: var(--fill-color);\n",
       "    }\n",
       "    80% {\n",
       "      border-color: transparent;\n",
       "      border-right-color: var(--fill-color);\n",
       "      border-bottom-color: var(--fill-color);\n",
       "    }\n",
       "    90% {\n",
       "      border-color: transparent;\n",
       "      border-bottom-color: var(--fill-color);\n",
       "    }\n",
       "  }\n",
       "</style>\n",
       "\n",
       "      <script>\n",
       "        async function quickchart(key) {\n",
       "          const quickchartButtonEl =\n",
       "            document.querySelector('#' + key + ' button');\n",
       "          quickchartButtonEl.disabled = true;  // To prevent multiple clicks.\n",
       "          quickchartButtonEl.classList.add('colab-df-spinner');\n",
       "          try {\n",
       "            const charts = await google.colab.kernel.invokeFunction(\n",
       "                'suggestCharts', [key], {});\n",
       "          } catch (error) {\n",
       "            console.error('Error during call to suggestCharts:', error);\n",
       "          }\n",
       "          quickchartButtonEl.classList.remove('colab-df-spinner');\n",
       "          quickchartButtonEl.classList.add('colab-df-quickchart-complete');\n",
       "        }\n",
       "        (() => {\n",
       "          let quickchartButtonEl =\n",
       "            document.querySelector('#df-0211d376-919a-4312-a2f7-917b142c550c button');\n",
       "          quickchartButtonEl.style.display =\n",
       "            google.colab.kernel.accessAllowed ? 'block' : 'none';\n",
       "        })();\n",
       "      </script>\n",
       "    </div>\n",
       "\n",
       "    </div>\n",
       "  </div>\n"
      ],
      "text/plain": [
       "                                   Perguntas-2017.01 Gabarito-2017.01  \\\n",
       "0  1.\\tUma mulher com 23 anos de idade comparece ...             NULA   \n",
       "1  2.\\tUm homem com 65 anos de idade encontra-se ...                B   \n",
       "2  3.\\tUma mulher com 38 anos de idade procurou a...                C   \n",
       "3                                         4.\\tIMAGEM           IMAGEM   \n",
       "4  5.\\tUma criança com 4 anos de idade, cujos pai...                A   \n",
       "\n",
       "                                   Perguntas-2017.02 Gabarito-2017.02  \\\n",
       "0  1.\\tUma mulher com 38 anos de idade procurou a...                C   \n",
       "1  2.\\tUma mulher com 23 anos de idade comparece ...             NULA   \n",
       "2  3.\\tUm homem com 65 anos de idade encontra-se ...                B   \n",
       "3  4.\\tUma mulher com 32 anos de idade, no quinto...                B   \n",
       "4                                         5.\\tIMAGEM                B   \n",
       "\n",
       "                                   Perguntas-2020.01 Gabarito-2020.01  \\\n",
       "0  1.\\tAo atender uma primigesta com 15 anos de i...                A   \n",
       "1  2.\\tUma mulher com 35 anos de idade exerce pro...                C   \n",
       "2  3.\\tUma mulher com 43 anos de idade, com 80 kg...                C   \n",
       "3  4.\\tUma mulher com 18 anos de idade vai ao amb...                A   \n",
       "4  5.\\tUma criança com 6 anos de idade é levada p...                B   \n",
       "\n",
       "                                   Perguntas-2020.02 Gabarito-2020.02  \\\n",
       "0  1.\\tUma mulher com 43 anos de idade, com 80 kg...                C   \n",
       "1  2.\\tAo atender uma primigesta com 15 anos de i...                A   \n",
       "2  3.\\tUma mulher com 35 anos de idade exerce pro...                C   \n",
       "3  4.\\tUma mulher com 48 anos de idade vai a uma ...                D   \n",
       "4  5.\\tUma mulher com 18 anos de idade vai ao amb...                A   \n",
       "\n",
       "                                   Perguntas-2021.01 Gabarito-2021.01  \\\n",
       "0  1.\\tPrimigesta, de 25 anos de idade, com 34 se...                B   \n",
       "1  2.\\tUm recém-nascido com 20 dias de vida dá en...                C   \n",
       "2  3.\\t Um homem, de 37 anos de idade, com AIDS/H...                B   \n",
       "3  4.\\tPaciente teve parto cesárea há 8 dias e re...                D   \n",
       "4  5.\\tPaciente de 68 anos de idade, do sexo masc...                B   \n",
       "\n",
       "                                   Perguntas-2022.01 Gabarito-2022.01  \\\n",
       "0  1.\\tUma mulher com 51 anos de idade, em tratam...             NULA   \n",
       "1  2.\\tUm paciente com 72 anos de idade, tabagist...                C   \n",
       "2  3.\\tUm menino com 5 anos de idade, acompanhado...                C   \n",
       "3  4.\\tSegundo o Instituto Nacional do Câncer (IN...                D   \n",
       "4  5.\\tUm homem com 48 anos de idade é obeso, tab...                A   \n",
       "\n",
       "                                   Perguntas-2022.02 Gabarito-2022.02  \\\n",
       "0                                         1.\\tIMAGEM                C   \n",
       "1  2.\\tHomem de 75 anos de idade, tabagista 1 maç...                A   \n",
       "2  3.\\tLactente de 6 meses está sendo atendido na...                B   \n",
       "3  4.\\tAdolescente de 14 anos de idade, primípara...                D   \n",
       "4  5.\\tUma mulher de 34 anos com diagnóstico de d...                D   \n",
       "\n",
       "                                   Perguntas-2023.01 Gabarito-2023.01  \\\n",
       "0  1.\\tUm paciente com 54 anos, em acompanhamento...                D   \n",
       "1  2.\\tUm homem com 62 anos comparece, acompanhad...                D   \n",
       "2  3.\\tUma lactente com 6 meses, nascida a termo,...                B   \n",
       "3  4.\\tUma paciente com 21 anos, nuligesta, compa...                A   \n",
       "4  5.\\tSindemia é um conjunto de problemas de saú...                A   \n",
       "\n",
       "                                   Perguntas-2023.02 Gabarito-2023.02  \\\n",
       "0  1.\\tUma mulher de 60 anos, hipertensa, em uso ...                B   \n",
       "1  2.\\tUm paciente de 48 anos é internado devido ...                D   \n",
       "2  3.\\tUm menino de 9 anos, com peso de 29 kg e a...                D   \n",
       "3  4.\\tUma mulher de 49 anos comparece à unidade ...                B   \n",
       "4  5.\\tEm um território com população em situação...                B   \n",
       "\n",
       "                                   Perguntas-2024.01 Gabarito-2024.01  \n",
       "0  1 Uma mulher com 25 anos, solteira, sem comorb...                A  \n",
       "1  2 Um paciente com 28 anos, vítima de atropelam...                A  \n",
       "2  3 Um lactente com 3 meses comparece a uma cons...                C  \n",
       "3  4 Uma gestante com 24 anos, G2 P1 A0, chega à ...                D  \n",
       "4  5 Ao assumir a coordenação de uma equipe de sa...                A  "
      ]
     },
     "execution_count": 4,
     "metadata": {},
     "output_type": "execute_result"
    }
   ],
   "source": [
    "url = '<public link to access the questions from the 2017.01 to 2024.01 exams>'\n",
    "file_id = url.split('/')[-2]\n",
    "read_url='https://drive.google.com/uc?id=' + file_id\n",
    "\n",
    "# read the data\n",
    "provas = pd.read_excel(read_url)\n",
    "provas.head()"
   ]
  },
  {
   "cell_type": "code",
   "execution_count": 5,
   "metadata": {
    "executionInfo": {
     "elapsed": 18,
     "status": "ok",
     "timestamp": 1748201865607,
     "user": {
      "displayName": "Adonias Caetano de Oliveira",
      "userId": "13695547288945529292"
     },
     "user_tz": 180
    },
    "id": "UrAjptlBu-6k"
   },
   "outputs": [],
   "source": [
    "# Passo 1: Carrega a planilha\n",
    "df = pd.read_excel(\"RAG.xlsx\")\n",
    "perguntas = df[\"perguntas\"].astype(str).tolist()\n",
    "respostas = df[\"respostas\"].astype(str).tolist()"
   ]
  },
  {
   "cell_type": "markdown",
   "metadata": {
    "id": "g_7GmHzcHE4q"
   },
   "source": [
    "## **ChatGPT model**"
   ]
  },
  {
   "cell_type": "code",
   "execution_count": null,
   "metadata": {
    "executionInfo": {
     "elapsed": 14,
     "status": "ok",
     "timestamp": 1748201865624,
     "user": {
      "displayName": "Adonias Caetano de Oliveira",
      "userId": "13695547288945529292"
     },
     "user_tz": 180
    },
    "id": "O_etaqCXGszq"
   },
   "outputs": [],
   "source": [
    "OPENAI_API_KEY=\"<api key>\""
   ]
  },
  {
   "cell_type": "code",
   "execution_count": 7,
   "metadata": {
    "executionInfo": {
     "elapsed": 438,
     "status": "ok",
     "timestamp": 1748201866064,
     "user": {
      "displayName": "Adonias Caetano de Oliveira",
      "userId": "13695547288945529292"
     },
     "user_tz": 180
    },
    "id": "9YUcz2dr1Us7"
   },
   "outputs": [],
   "source": [
    "client = AsyncOpenAI(\n",
    "    # This is the default and can be omitted\n",
    "    api_key=OPENAI_API_KEY,\n",
    ")"
   ]
  },
  {
   "cell_type": "markdown",
   "metadata": {
    "id": "hQrdCgMByyFj"
   },
   "source": [
    "##  **Gera embeddings dos dados**"
   ]
  },
  {
   "cell_type": "code",
   "execution_count": 8,
   "metadata": {
    "executionInfo": {
     "elapsed": 12159,
     "status": "ok",
     "timestamp": 1748201878227,
     "user": {
      "displayName": "Adonias Caetano de Oliveira",
      "userId": "13695547288945529292"
     },
     "user_tz": 180
    },
    "id": "e-jISn8W7a_9"
   },
   "outputs": [],
   "source": [
    "# Passo 2: Gera embeddings das perguntas\n",
    "# Make the gerar_embeddings function asynchronous\n",
    "async def gerar_embeddings(client, textos, modelo=\"text-embedding-3-small\"):\n",
    "    embeddings = []\n",
    "    for i in range(0, len(textos), 100):  # Lote de até 100\n",
    "        lote = textos[i:i+100]\n",
    "        # Use the provided client to create embeddings and await the result\n",
    "        resposta = await client.embeddings.create(input=lote, model=modelo)\n",
    "        lote_embeddings = [d.embedding for d in resposta.data]\n",
    "        embeddings.extend(lote_embeddings)\n",
    "    return embeddings\n",
    "\n",
    "# Since gerar_embeddings is now async, you need to await it\n",
    "# This code block also needs to be within an async function or awaited directly\n",
    "async def setup_embeddings():\n",
    "    vetores = await gerar_embeddings(client, perguntas)\n",
    "    vetores_np = np.array(vetores).astype(\"float32\")\n",
    "\n",
    "    # Passo 3: Cria índice FAISS\n",
    "    dim = len(vetores[0])\n",
    "    index = faiss.IndexFlatL2(dim)\n",
    "    index.add(vetores_np)\n",
    "    return index, vetores_np\n",
    "\n",
    "# Await the setup function to initialize index and vetores_np\n",
    "index, vetores_np = await setup_embeddings()"
   ]
  },
  {
   "cell_type": "code",
   "execution_count": 14,
   "metadata": {
    "executionInfo": {
     "elapsed": 21,
     "status": "ok",
     "timestamp": 1748202026122,
     "user": {
      "displayName": "Adonias Caetano de Oliveira",
      "userId": "13695547288945529292"
     },
     "user_tz": 180
    },
    "id": "dpV6vIJuzw4F"
   },
   "outputs": [],
   "source": [
    "async def consulta_RAG(pergunta_usuario, k=3):\n",
    "    # Embedding da pergunta do usuário\n",
    "    # Pass the client and the list containing the user question\n",
    "    query_embedding = await gerar_embeddings(client, [pergunta_usuario])\n",
    "    # Access the embedding from the list returned by gerar_embeddings\n",
    "    query_np = np.array(query_embedding).astype(\"float32\")\n",
    "\n",
    "    # Busca as perguntas mais semelhantes\n",
    "    distancias, indices = index.search(query_np, k)\n",
    "\n",
    "    # Monta contexto com perguntas e respostas mais próximas\n",
    "    contexto = \"\"\n",
    "    for idx in indices[0]:\n",
    "        contexto += f\"Pergunta: {perguntas[idx]}\\nResposta: {respostas[idx]}\\n\\n\"\n",
    "\n",
    "    return contexto"
   ]
  },
  {
   "cell_type": "markdown",
   "metadata": {
    "id": "cTER_5mhiImB"
   },
   "source": [
    "## **Respondendo as questões do Revalida**"
   ]
  },
  {
   "cell_type": "code",
   "execution_count": 15,
   "metadata": {
    "executionInfo": {
     "elapsed": 3,
     "status": "ok",
     "timestamp": 1748202026128,
     "user": {
      "displayName": "Adonias Caetano de Oliveira",
      "userId": "13695547288945529292"
     },
     "user_tz": 180
    },
    "id": "QnRA2qHw3Fnx"
   },
   "outputs": [],
   "source": [
    "from google.colab import files\n",
    "\n",
    "def save_respostas(respostas_llm, name):\n",
    "  df = pd.DataFrame(respostas_llm)\n",
    "  df.to_excel(f'respostas-{name}.xlsx', index=False)\n",
    "\n",
    "  # Especificar o caminho do arquivo no Google Drive\n",
    "  files.download(f'respostas-{name}.xlsx')"
   ]
  },
  {
   "cell_type": "code",
   "execution_count": 16,
   "metadata": {
    "colab": {
     "base_uri": "https://localhost:8080/",
     "height": 17
    },
    "executionInfo": {
     "elapsed": 377170,
     "status": "ok",
     "timestamp": 1748202403325,
     "user": {
      "displayName": "Adonias Caetano de Oliveira",
      "userId": "13695547288945529292"
     },
     "user_tz": 180
    },
    "id": "83Fo2uBRvgJo",
    "outputId": "d5f6a67a-4850-4a2b-f537-6f8b298ce8a1"
   },
   "outputs": [
    {
     "data": {
      "application/javascript": "\n    async function download(id, filename, size) {\n      if (!google.colab.kernel.accessAllowed) {\n        return;\n      }\n      const div = document.createElement('div');\n      const label = document.createElement('label');\n      label.textContent = `Downloading \"${filename}\": `;\n      div.appendChild(label);\n      const progress = document.createElement('progress');\n      progress.max = size;\n      div.appendChild(progress);\n      document.body.appendChild(div);\n\n      const buffers = [];\n      let downloaded = 0;\n\n      const channel = await google.colab.kernel.comms.open(id);\n      // Send a message to notify the kernel that we're ready.\n      channel.send({})\n\n      for await (const message of channel.messages) {\n        // Send a message to notify the kernel that we're ready.\n        channel.send({})\n        if (message.buffers) {\n          for (const buffer of message.buffers) {\n            buffers.push(buffer);\n            downloaded += buffer.byteLength;\n            progress.value = downloaded;\n          }\n        }\n      }\n      const blob = new Blob(buffers, {type: 'application/binary'});\n      const a = document.createElement('a');\n      a.href = window.URL.createObjectURL(blob);\n      a.download = filename;\n      div.appendChild(a);\n      a.click();\n      div.remove();\n    }\n  ",
      "text/plain": [
       "<IPython.core.display.Javascript object>"
      ]
     },
     "metadata": {},
     "output_type": "display_data"
    },
    {
     "data": {
      "application/javascript": "download(\"download_13d1be2d-3196-4f3b-a983-70da9ad39dfe\", \"respostas-2024.01.xlsx\", 61491)",
      "text/plain": [
       "<IPython.core.display.Javascript object>"
      ]
     },
     "metadata": {},
     "output_type": "display_data"
    }
   ],
   "source": [
    "async def main() -> None:\n",
    "  respostas_llm = {}\n",
    "\n",
    "  for name in sheet_names:\n",
    "    perguntas = provas['Perguntas-' + name].to_list()\n",
    "    gabaritos = provas['Gabarito-' + name].to_list()\n",
    "    respostas_llm['Perguntas-' + name] = perguntas\n",
    "    respostas_llm['Gabarito-' + name] = gabaritos\n",
    "    respostas_llm['Repostas-' + name] = []\n",
    "\n",
    "    for pergunta, gabarito in zip(perguntas, gabaritos):\n",
    "\n",
    "      if gabarito != \"IMAGEM\" and gabarito != \"TABELA\" and gabarito != \"NULA\":\n",
    "\n",
    "        # Introduce a delay to avoid hitting the rate limit\n",
    "        #await asyncio.sleep(20) # Adjust the sleep time as needed\n",
    "\n",
    "        prompt = f\"Dado a questão a seguir, qual item está correto? Responda com a letra do item correto: {pergunta}\"\n",
    "\n",
    "        # Await the call to the async consulta_RAG function\n",
    "        contexto = await consulta_RAG(prompt)\n",
    "\n",
    "        response = await client.chat.completions.create(\n",
    "              model=\"gpt-4o\",\n",
    "              messages=[\n",
    "                   {\n",
    "                      \"role\": \"system\",\n",
    "                      \"content\": \"Use sua base de conhecimento e a Base RAG.\"\n",
    "                  },\n",
    "                  {\n",
    "                      \"role\": \"user\",\n",
    "                      \"content\": f\"Base RAG:\\n{contexto}\"\n",
    "                  },\n",
    "                  {\"role\": \"user\",\n",
    "                   \"content\": prompt}\n",
    "              ]\n",
    "        )\n",
    "        # Access the content using dot notation instead of square brackets\n",
    "        resposta = response.choices[0].message.content\n",
    "\n",
    "        respostas_llm['Repostas-' + name].append(resposta.strip())\n",
    "      else:\n",
    "        respostas_llm['Repostas-' + name].append(gabarito)\n",
    "\n",
    "    save_respostas(respostas_llm, name)\n",
    "\n",
    "# Use await directly instead of asyncio.run()\n",
    "await main()\n"
   ]
  }
 ],
 "metadata": {
  "colab": {
   "provenance": [
    {
     "file_id": "14FGuZN3LJDsu76MxKEfrv4fTI6EJkqbW",
     "timestamp": 1737395497361
    }
   ]
  },
  "kernelspec": {
   "display_name": "Python 3",
   "name": "python3"
  },
  "language_info": {
   "name": "python"
  }
 },
 "nbformat": 4,
 "nbformat_minor": 0
}
