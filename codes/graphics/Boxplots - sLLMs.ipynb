{
 "cells": [
  {
   "cell_type": "markdown",
   "metadata": {
    "id": "13beqgq2uh2f"
   },
   "source": [
    "#  **Geração de Boxplots  (sLLMs)**\n",
    "\n",
    "**Authors:** Renato Freitas Bessa, Adonias Caetano de Oliveira, Ariel Soares Teles\n",
    "\n",
    "**Institution:** UFDPar - PPGBiotec\n",
    "\n",
    "**Objective:** Gera os boxplots dos sLLMs (llama e qwen)"
   ]
  },
  {
   "cell_type": "code",
   "execution_count": null,
   "metadata": {
    "colab": {
     "base_uri": "https://localhost:8080/"
    },
    "executionInfo": {
     "elapsed": 49368,
     "status": "ok",
     "timestamp": 1746504010081,
     "user": {
      "displayName": "Adonias Caetano de Oliveira",
      "userId": "13695547288945529292"
     },
     "user_tz": 180
    },
    "id": "L2PEdCiascbK",
    "outputId": "8eca1f69-fc55-4e44-f08c-3a48c8d4140d",
    "vscode": {
     "languageId": "r"
    }
   },
   "outputs": [
    {
     "name": "stderr",
     "output_type": "stream",
     "text": [
      "Installing package into ‘/usr/local/lib/R/site-library’\n",
      "(as ‘lib’ is unspecified)\n",
      "\n",
      "Installing package into ‘/usr/local/lib/R/site-library’\n",
      "(as ‘lib’ is unspecified)\n",
      "\n",
      "Installing package into ‘/usr/local/lib/R/site-library’\n",
      "(as ‘lib’ is unspecified)\n",
      "\n"
     ]
    }
   ],
   "source": [
    "install.packages(\"googledrive\")\n",
    "install.packages(\"readxl\")\n",
    "install.packages(\"dplyr\")"
   ]
  },
  {
   "cell_type": "code",
   "execution_count": null,
   "metadata": {
    "colab": {
     "base_uri": "https://localhost:8080/"
    },
    "executionInfo": {
     "elapsed": 5,
     "status": "ok",
     "timestamp": 1746504010090,
     "user": {
      "displayName": "Adonias Caetano de Oliveira",
      "userId": "13695547288945529292"
     },
     "user_tz": 180
    },
    "id": "wrEU_WurshL8",
    "outputId": "58624d24-3c44-45c4-9928-e31497e5d935",
    "vscode": {
     "languageId": "r"
    }
   },
   "outputs": [
    {
     "name": "stderr",
     "output_type": "stream",
     "text": [
      "\n",
      "Attaching package: ‘dplyr’\n",
      "\n",
      "\n",
      "The following objects are masked from ‘package:stats’:\n",
      "\n",
      "    filter, lag\n",
      "\n",
      "\n",
      "The following objects are masked from ‘package:base’:\n",
      "\n",
      "    intersect, setdiff, setequal, union\n",
      "\n",
      "\n"
     ]
    }
   ],
   "source": [
    "# Carregar os pacotes\n",
    "library(googledrive)\n",
    "library(readxl)\n",
    "library(dplyr)"
   ]
  },
  {
   "cell_type": "code",
   "execution_count": null,
   "metadata": {
    "colab": {
     "base_uri": "https://localhost:8080/"
    },
    "executionInfo": {
     "elapsed": 32847,
     "status": "ok",
     "timestamp": 1746503783299,
     "user": {
      "displayName": "Adonias Caetano de Oliveira",
      "userId": "13695547288945529292"
     },
     "user_tz": 180
    },
    "id": "AGJUYQu5uge0",
    "outputId": "b7797fb9-ee88-4695-b237-d419e1fde467",
    "vscode": {
     "languageId": "r"
    }
   },
   "outputs": [
    {
     "name": "stderr",
     "output_type": "stream",
     "text": [
      "\u001b[1m\u001b[22mIs it OK to cache OAuth access credentials in the folder \u001b[34m~/.cache/gargle\u001b[39m\n",
      "between R sessions?\n",
      "\u001b[1m1\u001b[22m: Yes\n",
      "\u001b[1m2\u001b[22m: No\n"
     ]
    },
    {
     "name": "stdout",
     "output_type": "stream",
     "text": [
      "Selection: 1\n"
     ]
    },
    {
     "name": "stderr",
     "output_type": "stream",
     "text": [
      "Please point your browser to the following url: \n",
      "\n",
      "https://accounts.google.com/o/oauth2/v2/auth?client_id=603366585132-frjlouoa3s2ono25d2l9ukvhlsrlnr7k.apps.googleusercontent.com&scope=https%3A%2F%2Fwww.googleapis.com%2Fauth%2Fdrive%20https%3A%2F%2Fwww.googleapis.com%2Fauth%2Fuserinfo.email&redirect_uri=https%3A%2F%2Fwww.tidyverse.org%2Fgoogle-callback%2F&response_type=code&state=9841f495f56479c0672e45b40280d9ab&access_type=offline&prompt=consent\n",
      "\n"
     ]
    },
    {
     "name": "stdout",
     "output_type": "stream",
     "text": [
      "Enter authorization code: eyJjb2RlIjoiNC8wQWJfNXFsa2Z4NlREakgtQmtmR2JQYmNYN21YY01CazRnTnk0aUJ2STduQ1NIc2hkaDQxUUltem4zby1WX3FEUlFQWi1FUSIsInN0YXRlIjoiOTg0MWY0OTVmNTY0NzljMDY3MmU0NWI0MDI4MGQ5YWIifQ==\n"
     ]
    }
   ],
   "source": [
    "# Autenticar no Google Drive (necessário apenas na primeira execução)\n",
    "drive_auth()"
   ]
  },
  {
   "cell_type": "code",
   "execution_count": null,
   "metadata": {
    "colab": {
     "base_uri": "https://localhost:8080/"
    },
    "executionInfo": {
     "elapsed": 39,
     "status": "ok",
     "timestamp": 1746503787707,
     "user": {
      "displayName": "Adonias Caetano de Oliveira",
      "userId": "13695547288945529292"
     },
     "user_tz": 180
    },
    "id": "p716Fm_GtWQc",
    "outputId": "5b75ce90-0bec-45ae-eb48-bc54092c5e41",
    "vscode": {
     "languageId": "r"
    }
   },
   "outputs": [
    {
     "name": "stdout",
     "output_type": "stream",
     "text": [
      "[1] \"https://drive.google.com/uc?id=1EhsWpJWhz56jIxQ-wCoS4RUYQ_9RprCt\"\n"
     ]
    }
   ],
   "source": [
    "# URL pública da planilha\n",
    "url <- \"public link to access the Fallbacks-LLMs spreadsheet\"\n",
    "\n",
    "# Extrair o ID do arquivo\n",
    "file_id <- unlist(strsplit(url, \"/\"))[6]\n",
    "\n",
    "# Construir a URL de leitura\n",
    "read_url <- paste0(\"https://drive.google.com/uc?id=\", file_id)\n",
    "\n",
    "# Exibir a URL gerada\n",
    "print(read_url)"
   ]
  },
  {
   "cell_type": "code",
   "execution_count": null,
   "metadata": {
    "colab": {
     "base_uri": "https://localhost:8080/"
    },
    "executionInfo": {
     "elapsed": 1225,
     "status": "ok",
     "timestamp": 1746503792934,
     "user": {
      "displayName": "Adonias Caetano de Oliveira",
      "userId": "13695547288945529292"
     },
     "user_tz": 180
    },
    "id": "jS1jbjLGutzD",
    "outputId": "f2bdff58-8e73-4568-f538-b055efddf8ae",
    "vscode": {
     "languageId": "r"
    }
   },
   "outputs": [
    {
     "name": "stderr",
     "output_type": "stream",
     "text": [
      "File downloaded:\n",
      "\n",
      "• \u001b[36mrespostas_modelos.xlsx\u001b[39m \u001b[90m<id: 1EhsWpJWhz56jIxQ-wCoS4RUYQ_9RprCt>\u001b[39m\n",
      "\n",
      "Saved locally as:\n",
      "\n",
      "• \u001b[34m/tmp/RtmpoFyUxW/file3376d02a953.xlsx\u001b[39m\n",
      "\n"
     ]
    }
   ],
   "source": [
    "# Baixar o arquivo temporariamente\n",
    "arquivo_temp <- tempfile(fileext = \".xlsx\")\n",
    "drive_download(as_id(file_id), path = arquivo_temp, overwrite = TRUE)"
   ]
  },
  {
   "cell_type": "code",
   "execution_count": null,
   "metadata": {
    "colab": {
     "base_uri": "https://localhost:8080/",
     "height": 286
    },
    "executionInfo": {
     "elapsed": 70,
     "status": "ok",
     "timestamp": 1746503805506,
     "user": {
      "displayName": "Adonias Caetano de Oliveira",
      "userId": "13695547288945529292"
     },
     "user_tz": 180
    },
    "id": "OeoICZRdmm7k",
    "outputId": "ad7b6ce2-be17-4d2a-8a38-a6f03627ac59",
    "vscode": {
     "languageId": "r"
    }
   },
   "outputs": [
    {
     "data": {
      "text/html": [
       "<table class=\"dataframe\">\n",
       "<caption>A tibble: 6 × 3</caption>\n",
       "<thead>\n",
       "\t<tr><th scope=col>Revalida Edition</th><th scope=col>Model</th><th scope=col>Accuracy Rate</th></tr>\n",
       "\t<tr><th scope=col>&lt;chr&gt;</th><th scope=col>&lt;chr&gt;</th><th scope=col>&lt;dbl&gt;</th></tr>\n",
       "</thead>\n",
       "<tbody>\n",
       "\t<tr><td>2017 - Blue</td><td>Qwen2.5-7B</td><td>0.00</td></tr>\n",
       "\t<tr><td>2017 - Red </td><td>Qwen2.5-7B</td><td>0.00</td></tr>\n",
       "\t<tr><td>2020.01    </td><td>Qwen2.5-7B</td><td>0.01</td></tr>\n",
       "\t<tr><td>2020.02    </td><td>Qwen2.5-7B</td><td>0.00</td></tr>\n",
       "\t<tr><td>2021.01    </td><td>Qwen2.5-7B</td><td>0.01</td></tr>\n",
       "\t<tr><td>2022.01    </td><td>Qwen2.5-7B</td><td>0.01</td></tr>\n",
       "</tbody>\n",
       "</table>\n"
      ],
      "text/latex": [
       "A tibble: 6 × 3\n",
       "\\begin{tabular}{lll}\n",
       " Revalida Edition & Model & Accuracy Rate\\\\\n",
       " <chr> & <chr> & <dbl>\\\\\n",
       "\\hline\n",
       "\t 2017 - Blue & Qwen2.5-7B & 0.00\\\\\n",
       "\t 2017 - Red  & Qwen2.5-7B & 0.00\\\\\n",
       "\t 2020.01     & Qwen2.5-7B & 0.01\\\\\n",
       "\t 2020.02     & Qwen2.5-7B & 0.00\\\\\n",
       "\t 2021.01     & Qwen2.5-7B & 0.01\\\\\n",
       "\t 2022.01     & Qwen2.5-7B & 0.01\\\\\n",
       "\\end{tabular}\n"
      ],
      "text/markdown": [
       "\n",
       "A tibble: 6 × 3\n",
       "\n",
       "| Revalida Edition &lt;chr&gt; | Model &lt;chr&gt; | Accuracy Rate &lt;dbl&gt; |\n",
       "|---|---|---|\n",
       "| 2017 - Blue | Qwen2.5-7B | 0.00 |\n",
       "| 2017 - Red  | Qwen2.5-7B | 0.00 |\n",
       "| 2020.01     | Qwen2.5-7B | 0.01 |\n",
       "| 2020.02     | Qwen2.5-7B | 0.00 |\n",
       "| 2021.01     | Qwen2.5-7B | 0.01 |\n",
       "| 2022.01     | Qwen2.5-7B | 0.01 |\n",
       "\n"
      ],
      "text/plain": [
       "  Revalida Edition Model      Accuracy Rate\n",
       "1 2017 - Blue      Qwen2.5-7B 0.00         \n",
       "2 2017 - Red       Qwen2.5-7B 0.00         \n",
       "3 2020.01          Qwen2.5-7B 0.01         \n",
       "4 2020.02          Qwen2.5-7B 0.00         \n",
       "5 2021.01          Qwen2.5-7B 0.01         \n",
       "6 2022.01          Qwen2.5-7B 0.01         "
      ]
     },
     "metadata": {},
     "output_type": "display_data"
    }
   ],
   "source": [
    "# Ler a aba específica do arquivo Excel\n",
    "nome_aba <- \"Accuracy\" # Substitua pelo nome da aba que deseja ler\n",
    "dados <- read_excel(arquivo_temp, sheet = nome_aba)\n",
    "\n",
    "# Visualizar os primeiros registros\n",
    "head(dados)"
   ]
  },
  {
   "cell_type": "code",
   "execution_count": null,
   "metadata": {
    "colab": {
     "base_uri": "https://localhost:8080/",
     "height": 34
    },
    "executionInfo": {
     "elapsed": 49,
     "status": "ok",
     "timestamp": 1746504306547,
     "user": {
      "displayName": "Adonias Caetano de Oliveira",
      "userId": "13695547288945529292"
     },
     "user_tz": 180
    },
    "id": "UUnR7CFwv72v",
    "outputId": "1f6e4da2-8cc3-4808-bf60-5815a30af039",
    "vscode": {
     "languageId": "r"
    }
   },
   "outputs": [
    {
     "data": {
      "text/html": [
       "<style>\n",
       ".list-inline {list-style: none; margin:0; padding: 0}\n",
       ".list-inline>li {display: inline-block}\n",
       ".list-inline>li:not(:last-child)::after {content: \"\\00b7\"; padding: 0 .5ex}\n",
       "</style>\n",
       "<ol class=list-inline><li>0</li><li>0</li><li>0.01</li><li>0</li><li>0.01</li><li>0.01</li><li>0</li><li>0</li><li>0</li></ol>\n"
      ],
      "text/latex": [
       "\\begin{enumerate*}\n",
       "\\item 0\n",
       "\\item 0\n",
       "\\item 0.01\n",
       "\\item 0\n",
       "\\item 0.01\n",
       "\\item 0.01\n",
       "\\item 0\n",
       "\\item 0\n",
       "\\item 0\n",
       "\\end{enumerate*}\n"
      ],
      "text/markdown": [
       "1. 0\n",
       "2. 0\n",
       "3. 0.01\n",
       "4. 0\n",
       "5. 0.01\n",
       "6. 0.01\n",
       "7. 0\n",
       "8. 0\n",
       "9. 0\n",
       "\n",
       "\n"
      ],
      "text/plain": [
       "[1] 0.00 0.00 0.01 0.00 0.01 0.01 0.00 0.00 0.00"
      ]
     },
     "metadata": {},
     "output_type": "display_data"
    }
   ],
   "source": [
    "qwen25 = dados$`Accuracy Rate`[0:9]\n",
    "qwen25"
   ]
  },
  {
   "cell_type": "code",
   "execution_count": null,
   "metadata": {
    "colab": {
     "base_uri": "https://localhost:8080/",
     "height": 34
    },
    "executionInfo": {
     "elapsed": 49,
     "status": "ok",
     "timestamp": 1746504335103,
     "user": {
      "displayName": "Adonias Caetano de Oliveira",
      "userId": "13695547288945529292"
     },
     "user_tz": 180
    },
    "id": "na2W6tSExFnJ",
    "outputId": "8a568dcf-159e-4309-f352-41f83f40cbda",
    "vscode": {
     "languageId": "r"
    }
   },
   "outputs": [
    {
     "data": {
      "text/html": [
       "<style>\n",
       ".list-inline {list-style: none; margin:0; padding: 0}\n",
       ".list-inline>li {display: inline-block}\n",
       ".list-inline>li:not(:last-child)::after {content: \"\\00b7\"; padding: 0 .5ex}\n",
       "</style>\n",
       "<ol class=list-inline><li>0.16</li><li>0.16</li><li>0.22</li><li>0.15</li><li>0.22</li><li>0.18</li><li>0.21</li><li>0.2</li><li>0.17</li></ol>\n"
      ],
      "text/latex": [
       "\\begin{enumerate*}\n",
       "\\item 0.16\n",
       "\\item 0.16\n",
       "\\item 0.22\n",
       "\\item 0.15\n",
       "\\item 0.22\n",
       "\\item 0.18\n",
       "\\item 0.21\n",
       "\\item 0.2\n",
       "\\item 0.17\n",
       "\\end{enumerate*}\n"
      ],
      "text/markdown": [
       "1. 0.16\n",
       "2. 0.16\n",
       "3. 0.22\n",
       "4. 0.15\n",
       "5. 0.22\n",
       "6. 0.18\n",
       "7. 0.21\n",
       "8. 0.2\n",
       "9. 0.17\n",
       "\n",
       "\n"
      ],
      "text/plain": [
       "[1] 0.16 0.16 0.22 0.15 0.22 0.18 0.21 0.20 0.17"
      ]
     },
     "metadata": {},
     "output_type": "display_data"
    }
   ],
   "source": [
    "llama31 = dados$`Accuracy Rate`[10:18]\n",
    "llama31"
   ]
  },
  {
   "cell_type": "code",
   "execution_count": null,
   "metadata": {
    "colab": {
     "base_uri": "https://localhost:8080/",
     "height": 34
    },
    "executionInfo": {
     "elapsed": 22,
     "status": "ok",
     "timestamp": 1746504378803,
     "user": {
      "displayName": "Adonias Caetano de Oliveira",
      "userId": "13695547288945529292"
     },
     "user_tz": 180
    },
    "id": "bNZIr2zwxW2h",
    "outputId": "f474f405-3f05-48c6-81c4-501da6724029",
    "vscode": {
     "languageId": "r"
    }
   },
   "outputs": [
    {
     "data": {
      "text/html": [
       "<style>\n",
       ".list-inline {list-style: none; margin:0; padding: 0}\n",
       ".list-inline>li {display: inline-block}\n",
       ".list-inline>li:not(:last-child)::after {content: \"\\00b7\"; padding: 0 .5ex}\n",
       "</style>\n",
       "<ol class=list-inline><li>0.06</li><li>0.07</li><li>0.04</li><li>0.04</li><li>0.07</li><li>0.05</li><li>0.04</li><li>0.04</li><li>0.03</li></ol>\n"
      ],
      "text/latex": [
       "\\begin{enumerate*}\n",
       "\\item 0.06\n",
       "\\item 0.07\n",
       "\\item 0.04\n",
       "\\item 0.04\n",
       "\\item 0.07\n",
       "\\item 0.05\n",
       "\\item 0.04\n",
       "\\item 0.04\n",
       "\\item 0.03\n",
       "\\end{enumerate*}\n"
      ],
      "text/markdown": [
       "1. 0.06\n",
       "2. 0.07\n",
       "3. 0.04\n",
       "4. 0.04\n",
       "5. 0.07\n",
       "6. 0.05\n",
       "7. 0.04\n",
       "8. 0.04\n",
       "9. 0.03\n",
       "\n",
       "\n"
      ],
      "text/plain": [
       "[1] 0.06 0.07 0.04 0.04 0.07 0.05 0.04 0.04 0.03"
      ]
     },
     "metadata": {},
     "output_type": "display_data"
    }
   ],
   "source": [
    "llama31Reasoning = dados$`Accuracy Rate`[19:27]\n",
    "llama31Reasoning"
   ]
  },
  {
   "cell_type": "code",
   "execution_count": null,
   "metadata": {
    "colab": {
     "base_uri": "https://localhost:8080/",
     "height": 34
    },
    "executionInfo": {
     "elapsed": 41,
     "status": "ok",
     "timestamp": 1746504445010,
     "user": {
      "displayName": "Adonias Caetano de Oliveira",
      "userId": "13695547288945529292"
     },
     "user_tz": 180
    },
    "id": "xHMmYjDRxkAS",
    "outputId": "4d07164e-b9b7-44a8-d89b-7c05df7434b4",
    "vscode": {
     "languageId": "r"
    }
   },
   "outputs": [
    {
     "data": {
      "text/html": [
       "<style>\n",
       ".list-inline {list-style: none; margin:0; padding: 0}\n",
       ".list-inline>li {display: inline-block}\n",
       ".list-inline>li:not(:last-child)::after {content: \"\\00b7\"; padding: 0 .5ex}\n",
       "</style>\n",
       "<ol class=list-inline><li>0.09</li><li>0.09</li><li>0.08</li><li>0.08</li><li>0.15</li><li>0.11</li><li>0.07</li><li>0.15</li><li>0.11</li></ol>\n"
      ],
      "text/latex": [
       "\\begin{enumerate*}\n",
       "\\item 0.09\n",
       "\\item 0.09\n",
       "\\item 0.08\n",
       "\\item 0.08\n",
       "\\item 0.15\n",
       "\\item 0.11\n",
       "\\item 0.07\n",
       "\\item 0.15\n",
       "\\item 0.11\n",
       "\\end{enumerate*}\n"
      ],
      "text/markdown": [
       "1. 0.09\n",
       "2. 0.09\n",
       "3. 0.08\n",
       "4. 0.08\n",
       "5. 0.15\n",
       "6. 0.11\n",
       "7. 0.07\n",
       "8. 0.15\n",
       "9. 0.11\n",
       "\n",
       "\n"
      ],
      "text/plain": [
       "[1] 0.09 0.09 0.08 0.08 0.15 0.11 0.07 0.15 0.11"
      ]
     },
     "metadata": {},
     "output_type": "display_data"
    }
   ],
   "source": [
    "qwen25Reasoning = dados$`Accuracy Rate`[28:36]\n",
    "qwen25Reasoning"
   ]
  },
  {
   "cell_type": "code",
   "execution_count": null,
   "metadata": {
    "id": "ezJHbfFLjn5e",
    "vscode": {
     "languageId": "r"
    }
   },
   "outputs": [],
   "source": [
    "xtick<-seq(45, 85, by=5)"
   ]
  },
  {
   "cell_type": "code",
   "execution_count": null,
   "metadata": {
    "id": "waKuCHY093Gc",
    "vscode": {
     "languageId": "r"
    }
   },
   "outputs": [],
   "source": [
    "get_labels <- function(valores) {\n",
    "\n",
    "  lista <- c() # Inicializa uma lista vazia\n",
    "  for (numero in valores) {\n",
    "    str_valor <- toString( numero )\n",
    "    lista <- c(lista, gsub(\"\\\\.\", \",\", str_valor))\n",
    "  }\n",
    "  return (lista)\n",
    "}"
   ]
  },
  {
   "cell_type": "code",
   "execution_count": null,
   "metadata": {
    "colab": {
     "base_uri": "https://localhost:8080/",
     "height": 437
    },
    "executionInfo": {
     "elapsed": 111,
     "status": "ok",
     "timestamp": 1746504556716,
     "user": {
      "displayName": "Adonias Caetano de Oliveira",
      "userId": "13695547288945529292"
     },
     "user_tz": 180
    },
    "id": "DlhRJF9SF0oB",
    "outputId": "19dd3a38-e622-4e10-873c-d5dac7edc67d",
    "vscode": {
     "languageId": "r"
    }
   },
   "outputs": [
    {
     "data": {
      "image/png": "[encoded data removed]",
      "text/plain": [
       "plot without title"
      ]
     },
     "metadata": {
      "image/png": {
       "height": 420,
       "width": 420
      }
     },
     "output_type": "display_data"
    }
   ],
   "source": [
    "# Criando o boxplot\n",
    "boxplot(qwen25, xlab = \"Qwen2.5-7B\", col = rgb(0, 1, 1, alpha = 0.25), border = \"black\")\n",
    "axis(2, at = xtick, labels = xtick)\n",
    "text(y = fivenum(qwen25), labels = get_labels( fivenum(qwen25) ), x=0.75)"
   ]
  },
  {
   "cell_type": "code",
   "execution_count": null,
   "metadata": {
    "colab": {
     "base_uri": "https://localhost:8080/",
     "height": 437
    },
    "executionInfo": {
     "elapsed": 119,
     "status": "ok",
     "timestamp": 1746504638871,
     "user": {
      "displayName": "Adonias Caetano de Oliveira",
      "userId": "13695547288945529292"
     },
     "user_tz": 180
    },
    "id": "pmFaoRF4G0Zg",
    "outputId": "d54fe746-e883-4797-8fe6-d4f503a77c75",
    "vscode": {
     "languageId": "r"
    }
   },
   "outputs": [
    {
     "data": {
      "image/png": "[encoded data removed]",
      "text/plain": [
       "plot without title"
      ]
     },
     "metadata": {
      "image/png": {
       "height": 420,
       "width": 420
      }
     },
     "output_type": "display_data"
    }
   ],
   "source": [
    "# Criando o boxplot\n",
    "boxplot(llama31, xlab = \"Llama 3.1\", col = rgb(0, 1, 1, alpha = 0.25), border = \"black\")\n",
    "axis(2, at = xtick, labels = xtick)\n",
    "text(y = fivenum(llama31), labels = get_labels( fivenum(llama31) ), x=0.75)"
   ]
  },
  {
   "cell_type": "code",
   "execution_count": null,
   "metadata": {
    "colab": {
     "base_uri": "https://localhost:8080/",
     "height": 437
    },
    "executionInfo": {
     "elapsed": 156,
     "status": "ok",
     "timestamp": 1746504704178,
     "user": {
      "displayName": "Adonias Caetano de Oliveira",
      "userId": "13695547288945529292"
     },
     "user_tz": 180
    },
    "id": "lRpxzl7CHnbk",
    "outputId": "1cde9307-d802-4096-f60f-ee491d5ca137",
    "vscode": {
     "languageId": "r"
    }
   },
   "outputs": [
    {
     "data": {
      "image/png": "[encoded data removed]",
      "text/plain": [
       "plot without title"
      ]
     },
     "metadata": {
      "image/png": {
       "height": 420,
       "width": 420
      }
     },
     "output_type": "display_data"
    }
   ],
   "source": [
    "# Criando o boxplot\n",
    "boxplot(llama31Reasoning, xlab = \"Llama-3.1-Reasoning\",  col = rgb(0, 1, 1, alpha = 0.25), border = \"black\")\n",
    "axis(2, at = xtick)\n",
    "text(y = fivenum(llama31Reasoning), labels = get_labels( fivenum(llama31Reasoning) ), x=0.75)"
   ]
  },
  {
   "cell_type": "code",
   "execution_count": null,
   "metadata": {
    "colab": {
     "base_uri": "https://localhost:8080/",
     "height": 437
    },
    "executionInfo": {
     "elapsed": 135,
     "status": "ok",
     "timestamp": 1746504764127,
     "user": {
      "displayName": "Adonias Caetano de Oliveira",
      "userId": "13695547288945529292"
     },
     "user_tz": 180
    },
    "id": "DLayJyiSyy0c",
    "outputId": "cf9d059f-5684-4c5f-e69f-aa1ad9315b7c",
    "vscode": {
     "languageId": "r"
    }
   },
   "outputs": [
    {
     "data": {
      "image/png": "[encoded data removed]",
      "text/plain": [
       "plot without title"
      ]
     },
     "metadata": {
      "image/png": {
       "height": 420,
       "width": 420
      }
     },
     "output_type": "display_data"
    }
   ],
   "source": [
    "# Criando o boxplot\n",
    "boxplot(qwen25Reasoning, xlab = \"Qwen2.5-7B-Reasoning\",  col = rgb(0, 1, 1, alpha = 0.25), border = \"black\")\n",
    "axis(2, at = xtick)\n",
    "text(y = fivenum(qwen25Reasoning), labels = get_labels( fivenum(qwen25Reasoning) ), x=0.75)"
   ]
  }
 ],
 "metadata": {
  "colab": {
   "authorship_tag": "ABX9TyNFkLzBgDSJlicpEl9iExt4",
   "provenance": []
  },
  "kernelspec": {
   "display_name": "R",
   "name": "ir"
  },
  "language_info": {
   "name": "R"
  }
 },
 "nbformat": 4,
 "nbformat_minor": 0
}
